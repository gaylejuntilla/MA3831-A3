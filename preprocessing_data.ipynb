{
 "cells": [
  {
   "cell_type": "code",
   "execution_count": 74,
   "id": "b325d778",
   "metadata": {},
   "outputs": [
    {
     "name": "stdout",
     "output_type": "stream",
     "text": [
      "[main 39e2989] get corpus\n",
      " 1 file changed, 1070 insertions(+), 2 deletions(-)\n",
      "Enumerating objects: 5, done.\n",
      "Counting objects: 100% (5/5), done.\n",
      "Delta compression using up to 8 threads\n",
      "Compressing objects: 100% (3/3), done.\n",
      "Writing objects: 100% (3/3), 6.29 KiB | 6.29 MiB/s, done.\n",
      "Total 3 (delta 1), reused 0 (delta 0), pack-reused 0\n",
      "remote: Resolving deltas: 100% (1/1), completed with 1 local object.\u001b[K\n",
      "To https://github.com/gaylejuntilla/MA3831-A3.git\n",
      "   dae5fc6..39e2989  main -> main\n"
     ]
    }
   ],
   "source": [
    "!git add 'preprocessing_data.ipynb'\n",
    "!git commit -m 'saving data'\n",
    "!git push"
   ]
  },
  {
   "cell_type": "code",
   "execution_count": 7,
   "id": "a5a28f5b",
   "metadata": {},
   "outputs": [],
   "source": [
    "import pandas as pd\n",
    "import numpy as np\n",
    "import seaborn as sns\n",
    "import matplotlib.pyplot as plt\n",
    "import re"
   ]
  },
  {
   "cell_type": "code",
   "execution_count": 18,
   "id": "d34e2e0f",
   "metadata": {},
   "outputs": [],
   "source": [
    "# reading datasets\n",
    "guardian = pd.read_csv('guardian_articles.csv')\n",
    "abc = pd.read_csv('abc_news_articles.csv')\n",
    "skynews = pd.read_csv('skynews_articles_full.csv')"
   ]
  },
  {
   "cell_type": "code",
   "execution_count": 279,
   "id": "59f894e1",
   "metadata": {},
   "outputs": [],
   "source": [
    "def clean_raw_data(df, source):\n",
    "    df = df.copy()\n",
    "    df.dropna(inplace=True)\n",
    "    df.drop_duplicates(inplace=True)\n",
    "    string_columns = ['headline', 'title', 'content']\n",
    "    for column in string_columns:\n",
    "        df[column] = df[column].apply(lambda x: re.sub(r'\\\\[nrt\\'\"\\\\]', ' ', str(x)))  # Remove common escape sequences\n",
    "        df[column] = df[column].apply(lambda x: re.sub(r'\\s+', ' ', str(x)).strip())\n",
    "        # Specifically replace escaped apostrophes (\\' becomes ')\n",
    "        df[column] = df[column].apply(lambda x: re.sub(r'\\\\\"', '\"', str(x)))\n",
    "\n",
    "    df['date'] = df['date'].apply(parse_date)\n",
    "    df['date'] = df['date'].dt.date\n",
    "    df.reset_index(drop=True, inplace=True)\n",
    "    df['source'] = source\n",
    "    return df"
   ]
  },
  {
   "cell_type": "code",
   "execution_count": 280,
   "id": "6dded637",
   "metadata": {},
   "outputs": [],
   "source": [
    "def parse_date(date_str):\n",
    "    try:\n",
    "        # Try parsing as date-time format (like '2025-04-01 18:18:43')\n",
    "        return pd.to_datetime(date_str, errors='raise')  # Raise error if parsing fails\n",
    "    except Exception:\n",
    "        try:\n",
    "            # If the first attempt fails, try date-only format (like '10 March 2025')\n",
    "            return pd.to_datetime(date_str, format='%d %B %Y', errors='coerce')\n",
    "        except Exception:\n",
    "            # If both attempts fail, return NaT (Not a Time)\n",
    "            return pd.NaT"
   ]
  },
  {
   "cell_type": "code",
   "execution_count": 281,
   "id": "2de9aedd",
   "metadata": {},
   "outputs": [],
   "source": [
    "guardian_df = clean_raw_data(guardian, 'theguardian')\n",
    "abc_df = clean_raw_data(abc, 'abc')\n",
    "skynews_df = clean_raw_data(skynews, 'skynews')"
   ]
  },
  {
   "cell_type": "code",
   "execution_count": 282,
   "id": "ca1acde6",
   "metadata": {},
   "outputs": [
    {
     "name": "stdout",
     "output_type": "stream",
     "text": [
      "<class 'pandas.core.frame.DataFrame'>\n",
      "RangeIndex: 176 entries, 0 to 175\n",
      "Data columns (total 6 columns):\n",
      " #   Column    Non-Null Count  Dtype \n",
      "---  ------    --------------  ----- \n",
      " 0   headline  176 non-null    object\n",
      " 1   title     176 non-null    object\n",
      " 2   content   176 non-null    object\n",
      " 3   date      176 non-null    object\n",
      " 4   url       176 non-null    object\n",
      " 5   source    176 non-null    object\n",
      "dtypes: object(6)\n",
      "memory usage: 8.4+ KB\n"
     ]
    }
   ],
   "source": [
    "guardian_df.info()"
   ]
  },
  {
   "cell_type": "code",
   "execution_count": 283,
   "id": "67489e63",
   "metadata": {},
   "outputs": [
    {
     "name": "stdout",
     "output_type": "stream",
     "text": [
      "<class 'pandas.core.frame.DataFrame'>\n",
      "RangeIndex: 160 entries, 0 to 159\n",
      "Data columns (total 6 columns):\n",
      " #   Column    Non-Null Count  Dtype \n",
      "---  ------    --------------  ----- \n",
      " 0   headline  160 non-null    object\n",
      " 1   title     160 non-null    object\n",
      " 2   date      160 non-null    object\n",
      " 3   content   160 non-null    object\n",
      " 4   url       160 non-null    object\n",
      " 5   source    160 non-null    object\n",
      "dtypes: object(6)\n",
      "memory usage: 7.6+ KB\n"
     ]
    }
   ],
   "source": [
    "abc_df.info()"
   ]
  },
  {
   "cell_type": "code",
   "execution_count": 284,
   "id": "bf3c0bb6",
   "metadata": {},
   "outputs": [
    {
     "name": "stdout",
     "output_type": "stream",
     "text": [
      "<class 'pandas.core.frame.DataFrame'>\n",
      "RangeIndex: 850 entries, 0 to 849\n",
      "Data columns (total 6 columns):\n",
      " #   Column    Non-Null Count  Dtype \n",
      "---  ------    --------------  ----- \n",
      " 0   headline  850 non-null    object\n",
      " 1   title     850 non-null    object\n",
      " 2   content   850 non-null    object\n",
      " 3   date      850 non-null    object\n",
      " 4   url       850 non-null    object\n",
      " 5   source    850 non-null    object\n",
      "dtypes: object(6)\n",
      "memory usage: 40.0+ KB\n"
     ]
    }
   ],
   "source": [
    "skynews_df.info()"
   ]
  },
  {
   "cell_type": "code",
   "execution_count": 285,
   "id": "dde890fe",
   "metadata": {},
   "outputs": [
    {
     "data": {
      "text/html": [
       "<div>\n",
       "<style scoped>\n",
       "    .dataframe tbody tr th:only-of-type {\n",
       "        vertical-align: middle;\n",
       "    }\n",
       "\n",
       "    .dataframe tbody tr th {\n",
       "        vertical-align: top;\n",
       "    }\n",
       "\n",
       "    .dataframe thead th {\n",
       "        text-align: right;\n",
       "    }\n",
       "</style>\n",
       "<table border=\"1\" class=\"dataframe\">\n",
       "  <thead>\n",
       "    <tr style=\"text-align: right;\">\n",
       "      <th></th>\n",
       "      <th>headline</th>\n",
       "      <th>title</th>\n",
       "      <th>content</th>\n",
       "      <th>date</th>\n",
       "      <th>url</th>\n",
       "      <th>source</th>\n",
       "    </tr>\n",
       "  </thead>\n",
       "  <tbody>\n",
       "    <tr>\n",
       "      <th>0</th>\n",
       "      <td>How a 'chopper on a stick' entered the federal...</td>\n",
       "      <td>Deputy PM promises return of Nowra's chopper o...</td>\n",
       "      <td>An Iroquois 894 helicopter that stood proudly ...</td>\n",
       "      <td>2025-04-01</td>\n",
       "      <td>https://www.abc.net.au/news/2025-04-01/nowra-c...</td>\n",
       "      <td>abc</td>\n",
       "    </tr>\n",
       "    <tr>\n",
       "      <th>1</th>\n",
       "      <td>Teal candidate banned from hair salon over 'po...</td>\n",
       "      <td>Teal candidate banned from Sydney salon after ...</td>\n",
       "      <td>Teal independent candidate Nicolette Boele has...</td>\n",
       "      <td>2025-04-01</td>\n",
       "      <td>https://www.abc.net.au/news/2025-04-01/teal-in...</td>\n",
       "      <td>abc</td>\n",
       "    </tr>\n",
       "    <tr>\n",
       "      <th>2</th>\n",
       "      <td>Posters of politicians and billionaires as Naz...</td>\n",
       "      <td>McCormack slams posters of himself, Dutton, Ri...</td>\n",
       "      <td>Former Deputy Prime Minister Michael McCormack...</td>\n",
       "      <td>2025-04-01</td>\n",
       "      <td>https://www.abc.net.au/news/2025-04-01/former-...</td>\n",
       "      <td>abc</td>\n",
       "    </tr>\n",
       "    <tr>\n",
       "      <th>3</th>\n",
       "      <td>Albanese won't budge on key US grievances, as ...</td>\n",
       "      <td>Albanese won't budge on key US grievances, as ...</td>\n",
       "      <td>An updated list of grievances published by the...</td>\n",
       "      <td>2025-04-01</td>\n",
       "      <td>https://www.abc.net.au/news/2025-04-01/electio...</td>\n",
       "      <td>abc</td>\n",
       "    </tr>\n",
       "    <tr>\n",
       "      <th>4</th>\n",
       "      <td>Coalition promises to relax home lending rules...</td>\n",
       "      <td>Coalition promises to relax home lending rules...</td>\n",
       "      <td>The Coalition is promising to relax rules arou...</td>\n",
       "      <td>2025-04-01</td>\n",
       "      <td>https://www.abc.net.au/news/2025-04-01/electio...</td>\n",
       "      <td>abc</td>\n",
       "    </tr>\n",
       "    <tr>\n",
       "      <th>...</th>\n",
       "      <td>...</td>\n",
       "      <td>...</td>\n",
       "      <td>...</td>\n",
       "      <td>...</td>\n",
       "      <td>...</td>\n",
       "      <td>...</td>\n",
       "    </tr>\n",
       "    <tr>\n",
       "      <th>155</th>\n",
       "      <td>Community desperate for investment welcomes $3...</td>\n",
       "      <td>'Forgotten' Wyndham welcomes federal pledge to...</td>\n",
       "      <td>Community leaders in Western Australia's north...</td>\n",
       "      <td>2025-01-11</td>\n",
       "      <td>https://www.abc.net.au/news/2025-01-11/albanes...</td>\n",
       "      <td>abc</td>\n",
       "    </tr>\n",
       "    <tr>\n",
       "      <th>156</th>\n",
       "      <td>A week of signals for the wild way politics mi...</td>\n",
       "      <td>Albanese's Bruce Highway announcement got as a...</td>\n",
       "      <td>If you were constructing your federal election...</td>\n",
       "      <td>2025-01-11</td>\n",
       "      <td>https://www.abc.net.au/news/2025-01-11/albanes...</td>\n",
       "      <td>abc</td>\n",
       "    </tr>\n",
       "    <tr>\n",
       "      <th>157</th>\n",
       "      <td>Albanese looks revived in the heat as he reset...</td>\n",
       "      <td>From 'no Australian left behind' to 'no Austra...</td>\n",
       "      <td>It's north of 40 degrees Celsius. The humidity...</td>\n",
       "      <td>2025-01-10</td>\n",
       "      <td>https://www.abc.net.au/news/2025-01-10/albanes...</td>\n",
       "      <td>abc</td>\n",
       "    </tr>\n",
       "    <tr>\n",
       "      <th>158</th>\n",
       "      <td>Albanese enters this election 'kicking against...</td>\n",
       "      <td>Albanese is running at the election 'kicking a...</td>\n",
       "      <td>Anthony Albanese could have spent Christmas at...</td>\n",
       "      <td>2025-01-10</td>\n",
       "      <td>https://www.abc.net.au/news/2025-01-10/albanes...</td>\n",
       "      <td>abc</td>\n",
       "    </tr>\n",
       "    <tr>\n",
       "      <th>159</th>\n",
       "      <td>Albanese unveils $7.2b highway upgrade as elec...</td>\n",
       "      <td>Federal Labor pledges to fund bulk of Bruce Hi...</td>\n",
       "      <td>The federal government has announced it will f...</td>\n",
       "      <td>2025-01-06</td>\n",
       "      <td>https://www.abc.net.au/news/2025-01-06/federal...</td>\n",
       "      <td>abc</td>\n",
       "    </tr>\n",
       "  </tbody>\n",
       "</table>\n",
       "<p>160 rows × 6 columns</p>\n",
       "</div>"
      ],
      "text/plain": [
       "                                              headline  \\\n",
       "0    How a 'chopper on a stick' entered the federal...   \n",
       "1    Teal candidate banned from hair salon over 'po...   \n",
       "2    Posters of politicians and billionaires as Naz...   \n",
       "3    Albanese won't budge on key US grievances, as ...   \n",
       "4    Coalition promises to relax home lending rules...   \n",
       "..                                                 ...   \n",
       "155  Community desperate for investment welcomes $3...   \n",
       "156  A week of signals for the wild way politics mi...   \n",
       "157  Albanese looks revived in the heat as he reset...   \n",
       "158  Albanese enters this election 'kicking against...   \n",
       "159  Albanese unveils $7.2b highway upgrade as elec...   \n",
       "\n",
       "                                                 title  \\\n",
       "0    Deputy PM promises return of Nowra's chopper o...   \n",
       "1    Teal candidate banned from Sydney salon after ...   \n",
       "2    McCormack slams posters of himself, Dutton, Ri...   \n",
       "3    Albanese won't budge on key US grievances, as ...   \n",
       "4    Coalition promises to relax home lending rules...   \n",
       "..                                                 ...   \n",
       "155  'Forgotten' Wyndham welcomes federal pledge to...   \n",
       "156  Albanese's Bruce Highway announcement got as a...   \n",
       "157  From 'no Australian left behind' to 'no Austra...   \n",
       "158  Albanese is running at the election 'kicking a...   \n",
       "159  Federal Labor pledges to fund bulk of Bruce Hi...   \n",
       "\n",
       "                                               content        date  \\\n",
       "0    An Iroquois 894 helicopter that stood proudly ...  2025-04-01   \n",
       "1    Teal independent candidate Nicolette Boele has...  2025-04-01   \n",
       "2    Former Deputy Prime Minister Michael McCormack...  2025-04-01   \n",
       "3    An updated list of grievances published by the...  2025-04-01   \n",
       "4    The Coalition is promising to relax rules arou...  2025-04-01   \n",
       "..                                                 ...         ...   \n",
       "155  Community leaders in Western Australia's north...  2025-01-11   \n",
       "156  If you were constructing your federal election...  2025-01-11   \n",
       "157  It's north of 40 degrees Celsius. The humidity...  2025-01-10   \n",
       "158  Anthony Albanese could have spent Christmas at...  2025-01-10   \n",
       "159  The federal government has announced it will f...  2025-01-06   \n",
       "\n",
       "                                                   url source  \n",
       "0    https://www.abc.net.au/news/2025-04-01/nowra-c...    abc  \n",
       "1    https://www.abc.net.au/news/2025-04-01/teal-in...    abc  \n",
       "2    https://www.abc.net.au/news/2025-04-01/former-...    abc  \n",
       "3    https://www.abc.net.au/news/2025-04-01/electio...    abc  \n",
       "4    https://www.abc.net.au/news/2025-04-01/electio...    abc  \n",
       "..                                                 ...    ...  \n",
       "155  https://www.abc.net.au/news/2025-01-11/albanes...    abc  \n",
       "156  https://www.abc.net.au/news/2025-01-11/albanes...    abc  \n",
       "157  https://www.abc.net.au/news/2025-01-10/albanes...    abc  \n",
       "158  https://www.abc.net.au/news/2025-01-10/albanes...    abc  \n",
       "159  https://www.abc.net.au/news/2025-01-06/federal...    abc  \n",
       "\n",
       "[160 rows x 6 columns]"
      ]
     },
     "execution_count": 285,
     "metadata": {},
     "output_type": "execute_result"
    }
   ],
   "source": [
    "new_column_order = ['headline', 'title', 'content', 'date', 'url', 'source']\n",
    "\n",
    "# Reorder the columns\n",
    "abc_df = abc_df[new_column_order]\n",
    "abc_df"
   ]
  },
  {
   "cell_type": "code",
   "execution_count": 286,
   "id": "22f27f41",
   "metadata": {},
   "outputs": [],
   "source": [
    "# selecting every 5th row to reduce size\n",
    "skynews_df = skynews_df.iloc[::5]"
   ]
  },
  {
   "cell_type": "code",
   "execution_count": 287,
   "id": "0aace313",
   "metadata": {},
   "outputs": [
    {
     "data": {
      "text/html": [
       "<div>\n",
       "<style scoped>\n",
       "    .dataframe tbody tr th:only-of-type {\n",
       "        vertical-align: middle;\n",
       "    }\n",
       "\n",
       "    .dataframe tbody tr th {\n",
       "        vertical-align: top;\n",
       "    }\n",
       "\n",
       "    .dataframe thead th {\n",
       "        text-align: right;\n",
       "    }\n",
       "</style>\n",
       "<table border=\"1\" class=\"dataframe\">\n",
       "  <thead>\n",
       "    <tr style=\"text-align: right;\">\n",
       "      <th></th>\n",
       "      <th>headline</th>\n",
       "      <th>title</th>\n",
       "      <th>content</th>\n",
       "      <th>date</th>\n",
       "      <th>url</th>\n",
       "      <th>source</th>\n",
       "    </tr>\n",
       "  </thead>\n",
       "  <tbody>\n",
       "    <tr>\n",
       "      <th>337</th>\n",
       "      <td>New polling reveals Jacinta Allan’s support pl...</td>\n",
       "      <td>Polls reveals sharp drop in support for Jacint...</td>\n",
       "      <td>New polling has revealed support for Jacinta A...</td>\n",
       "      <td>2025-04-02</td>\n",
       "      <td>https://www.skynews.com.au/australia-news/poli...</td>\n",
       "      <td>skynews</td>\n",
       "    </tr>\n",
       "    <tr>\n",
       "      <th>336</th>\n",
       "      <td>WATCH LIVE: Shadow treasurer Angus Taylor addr...</td>\n",
       "      <td>WATCH LIVE: Shadow treasurer Angus Taylor addr...</td>\n",
       "      <td>Shadow treasurer Angus Taylor is delivering hi...</td>\n",
       "      <td>2025-04-02</td>\n",
       "      <td>https://www.skynews.com.au/australia-news/poli...</td>\n",
       "      <td>skynews</td>\n",
       "    </tr>\n",
       "    <tr>\n",
       "      <th>338</th>\n",
       "      <td>Albanese’s major election push for group of Au...</td>\n",
       "      <td>Federal Election 2025: Labor to make submissio...</td>\n",
       "      <td>Labor will push the Fair Work Commission to gi...</td>\n",
       "      <td>2025-04-02</td>\n",
       "      <td>https://www.skynews.com.au/australia-news/poli...</td>\n",
       "      <td>skynews</td>\n",
       "    </tr>\n",
       "    <tr>\n",
       "      <th>341</th>\n",
       "      <td>Albanese hits back at Trump’s list of grievanc...</td>\n",
       "      <td>Anthony Albanese pressed on relationship with ...</td>\n",
       "      <td>Prime Minister Anthony Albanese has insisted h...</td>\n",
       "      <td>2025-04-01</td>\n",
       "      <td>https://www.skynews.com.au/australia-news/poli...</td>\n",
       "      <td>skynews</td>\n",
       "    </tr>\n",
       "    <tr>\n",
       "      <th>181</th>\n",
       "      <td>Bipartisan support to invest $150m for health ...</td>\n",
       "      <td>Coalition to match Labor's $150 million pledge...</td>\n",
       "      <td>A $150 million investment into a new healthcar...</td>\n",
       "      <td>2025-04-01</td>\n",
       "      <td>https://www.abc.net.au/news/2025-03-31/federal...</td>\n",
       "      <td>abc</td>\n",
       "    </tr>\n",
       "    <tr>\n",
       "      <th>...</th>\n",
       "      <td>...</td>\n",
       "      <td>...</td>\n",
       "      <td>...</td>\n",
       "      <td>...</td>\n",
       "      <td>...</td>\n",
       "      <td>...</td>\n",
       "    </tr>\n",
       "    <tr>\n",
       "      <th>335</th>\n",
       "      <td>Albanese unveils $7.2b highway upgrade as elec...</td>\n",
       "      <td>Federal Labor pledges to fund bulk of Bruce Hi...</td>\n",
       "      <td>The federal government has announced it will f...</td>\n",
       "      <td>2025-01-06</td>\n",
       "      <td>https://www.abc.net.au/news/2025-01-06/federal...</td>\n",
       "      <td>abc</td>\n",
       "    </tr>\n",
       "    <tr>\n",
       "      <th>504</th>\n",
       "      <td>Labor plunges $7.2bn to upgrade one of Austral...</td>\n",
       "      <td>Albanese government gives $7.2 billion funding...</td>\n",
       "      <td>Prime Minister Anthony Albanese has used his f...</td>\n",
       "      <td>2025-01-06</td>\n",
       "      <td>https://www.skynews.com.au/australia-news/poli...</td>\n",
       "      <td>skynews</td>\n",
       "    </tr>\n",
       "    <tr>\n",
       "      <th>174</th>\n",
       "      <td>Anthony Albanese switches to election footing ...</td>\n",
       "      <td>Anthony Albanese switches to election footing ...</td>\n",
       "      <td>PM frames federal poll as choice between ‘buil...</td>\n",
       "      <td>2025-01-06</td>\n",
       "      <td>https://www.theguardian.com/australia-news/202...</td>\n",
       "      <td>theguardian</td>\n",
       "    </tr>\n",
       "    <tr>\n",
       "      <th>505</th>\n",
       "      <td>‘A huge hit for any family’: New emissions sta...</td>\n",
       "      <td>‘A huge hit for any family’: Coalition warns n...</td>\n",
       "      <td>The federal Coalition is warning Australian co...</td>\n",
       "      <td>2025-01-02</td>\n",
       "      <td>https://www.skynews.com.au/australia-news/poli...</td>\n",
       "      <td>skynews</td>\n",
       "    </tr>\n",
       "    <tr>\n",
       "      <th>175</th>\n",
       "      <td>Eyes on the poll: five themes that will mark A...</td>\n",
       "      <td>Eyes on the poll: five themes that will mark A...</td>\n",
       "      <td>As Albanese rushes to regain his mojo in the f...</td>\n",
       "      <td>2025-01-01</td>\n",
       "      <td>https://www.theguardian.com/australia-news/202...</td>\n",
       "      <td>theguardian</td>\n",
       "    </tr>\n",
       "  </tbody>\n",
       "</table>\n",
       "<p>506 rows × 6 columns</p>\n",
       "</div>"
      ],
      "text/plain": [
       "                                              headline  \\\n",
       "337  New polling reveals Jacinta Allan’s support pl...   \n",
       "336  WATCH LIVE: Shadow treasurer Angus Taylor addr...   \n",
       "338  Albanese’s major election push for group of Au...   \n",
       "341  Albanese hits back at Trump’s list of grievanc...   \n",
       "181  Bipartisan support to invest $150m for health ...   \n",
       "..                                                 ...   \n",
       "335  Albanese unveils $7.2b highway upgrade as elec...   \n",
       "504  Labor plunges $7.2bn to upgrade one of Austral...   \n",
       "174  Anthony Albanese switches to election footing ...   \n",
       "505  ‘A huge hit for any family’: New emissions sta...   \n",
       "175  Eyes on the poll: five themes that will mark A...   \n",
       "\n",
       "                                                 title  \\\n",
       "337  Polls reveals sharp drop in support for Jacint...   \n",
       "336  WATCH LIVE: Shadow treasurer Angus Taylor addr...   \n",
       "338  Federal Election 2025: Labor to make submissio...   \n",
       "341  Anthony Albanese pressed on relationship with ...   \n",
       "181  Coalition to match Labor's $150 million pledge...   \n",
       "..                                                 ...   \n",
       "335  Federal Labor pledges to fund bulk of Bruce Hi...   \n",
       "504  Albanese government gives $7.2 billion funding...   \n",
       "174  Anthony Albanese switches to election footing ...   \n",
       "505  ‘A huge hit for any family’: Coalition warns n...   \n",
       "175  Eyes on the poll: five themes that will mark A...   \n",
       "\n",
       "                                               content        date  \\\n",
       "337  New polling has revealed support for Jacinta A...  2025-04-02   \n",
       "336  Shadow treasurer Angus Taylor is delivering hi...  2025-04-02   \n",
       "338  Labor will push the Fair Work Commission to gi...  2025-04-02   \n",
       "341  Prime Minister Anthony Albanese has insisted h...  2025-04-01   \n",
       "181  A $150 million investment into a new healthcar...  2025-04-01   \n",
       "..                                                 ...         ...   \n",
       "335  The federal government has announced it will f...  2025-01-06   \n",
       "504  Prime Minister Anthony Albanese has used his f...  2025-01-06   \n",
       "174  PM frames federal poll as choice between ‘buil...  2025-01-06   \n",
       "505  The federal Coalition is warning Australian co...  2025-01-02   \n",
       "175  As Albanese rushes to regain his mojo in the f...  2025-01-01   \n",
       "\n",
       "                                                   url       source  \n",
       "337  https://www.skynews.com.au/australia-news/poli...      skynews  \n",
       "336  https://www.skynews.com.au/australia-news/poli...      skynews  \n",
       "338  https://www.skynews.com.au/australia-news/poli...      skynews  \n",
       "341  https://www.skynews.com.au/australia-news/poli...      skynews  \n",
       "181  https://www.abc.net.au/news/2025-03-31/federal...          abc  \n",
       "..                                                 ...          ...  \n",
       "335  https://www.abc.net.au/news/2025-01-06/federal...          abc  \n",
       "504  https://www.skynews.com.au/australia-news/poli...      skynews  \n",
       "174  https://www.theguardian.com/australia-news/202...  theguardian  \n",
       "505  https://www.skynews.com.au/australia-news/poli...      skynews  \n",
       "175  https://www.theguardian.com/australia-news/202...  theguardian  \n",
       "\n",
       "[506 rows x 6 columns]"
      ]
     },
     "execution_count": 287,
     "metadata": {},
     "output_type": "execute_result"
    }
   ],
   "source": [
    "corpus = pd.concat([guardian_df, abc_df, skynews_df], ignore_index=True)\n",
    "corpus = corpus.sort_values(by='date', ascending=False)\n",
    "corpus"
   ]
  },
  {
   "cell_type": "code",
   "execution_count": 288,
   "id": "07968809",
   "metadata": {},
   "outputs": [
    {
     "data": {
      "text/html": [
       "<div>\n",
       "<style scoped>\n",
       "    .dataframe tbody tr th:only-of-type {\n",
       "        vertical-align: middle;\n",
       "    }\n",
       "\n",
       "    .dataframe tbody tr th {\n",
       "        vertical-align: top;\n",
       "    }\n",
       "\n",
       "    .dataframe thead th {\n",
       "        text-align: right;\n",
       "    }\n",
       "</style>\n",
       "<table border=\"1\" class=\"dataframe\">\n",
       "  <thead>\n",
       "    <tr style=\"text-align: right;\">\n",
       "      <th></th>\n",
       "      <th>headline</th>\n",
       "      <th>title</th>\n",
       "      <th>content</th>\n",
       "      <th>date</th>\n",
       "      <th>url</th>\n",
       "      <th>source</th>\n",
       "    </tr>\n",
       "  </thead>\n",
       "  <tbody>\n",
       "    <tr>\n",
       "      <th>0</th>\n",
       "      <td>New polling reveals Jacinta Allan’s support pl...</td>\n",
       "      <td>Polls reveals sharp drop in support for Jacint...</td>\n",
       "      <td>New polling has revealed support for Jacinta A...</td>\n",
       "      <td>2025-04-02</td>\n",
       "      <td>https://www.skynews.com.au/australia-news/poli...</td>\n",
       "      <td>skynews</td>\n",
       "    </tr>\n",
       "    <tr>\n",
       "      <th>1</th>\n",
       "      <td>WATCH LIVE: Shadow treasurer Angus Taylor addr...</td>\n",
       "      <td>WATCH LIVE: Shadow treasurer Angus Taylor addr...</td>\n",
       "      <td>Shadow treasurer Angus Taylor is delivering hi...</td>\n",
       "      <td>2025-04-02</td>\n",
       "      <td>https://www.skynews.com.au/australia-news/poli...</td>\n",
       "      <td>skynews</td>\n",
       "    </tr>\n",
       "    <tr>\n",
       "      <th>2</th>\n",
       "      <td>Albanese’s major election push for group of Au...</td>\n",
       "      <td>Federal Election 2025: Labor to make submissio...</td>\n",
       "      <td>Labor will push the Fair Work Commission to gi...</td>\n",
       "      <td>2025-04-02</td>\n",
       "      <td>https://www.skynews.com.au/australia-news/poli...</td>\n",
       "      <td>skynews</td>\n",
       "    </tr>\n",
       "    <tr>\n",
       "      <th>3</th>\n",
       "      <td>Albanese hits back at Trump’s list of grievanc...</td>\n",
       "      <td>Anthony Albanese pressed on relationship with ...</td>\n",
       "      <td>Prime Minister Anthony Albanese has insisted h...</td>\n",
       "      <td>2025-04-01</td>\n",
       "      <td>https://www.skynews.com.au/australia-news/poli...</td>\n",
       "      <td>skynews</td>\n",
       "    </tr>\n",
       "    <tr>\n",
       "      <th>4</th>\n",
       "      <td>Bipartisan support to invest $150m for health ...</td>\n",
       "      <td>Coalition to match Labor's $150 million pledge...</td>\n",
       "      <td>A $150 million investment into a new healthcar...</td>\n",
       "      <td>2025-04-01</td>\n",
       "      <td>https://www.abc.net.au/news/2025-03-31/federal...</td>\n",
       "      <td>abc</td>\n",
       "    </tr>\n",
       "    <tr>\n",
       "      <th>...</th>\n",
       "      <td>...</td>\n",
       "      <td>...</td>\n",
       "      <td>...</td>\n",
       "      <td>...</td>\n",
       "      <td>...</td>\n",
       "      <td>...</td>\n",
       "    </tr>\n",
       "    <tr>\n",
       "      <th>501</th>\n",
       "      <td>Albanese unveils $7.2b highway upgrade as elec...</td>\n",
       "      <td>Federal Labor pledges to fund bulk of Bruce Hi...</td>\n",
       "      <td>The federal government has announced it will f...</td>\n",
       "      <td>2025-01-06</td>\n",
       "      <td>https://www.abc.net.au/news/2025-01-06/federal...</td>\n",
       "      <td>abc</td>\n",
       "    </tr>\n",
       "    <tr>\n",
       "      <th>502</th>\n",
       "      <td>Labor plunges $7.2bn to upgrade one of Austral...</td>\n",
       "      <td>Albanese government gives $7.2 billion funding...</td>\n",
       "      <td>Prime Minister Anthony Albanese has used his f...</td>\n",
       "      <td>2025-01-06</td>\n",
       "      <td>https://www.skynews.com.au/australia-news/poli...</td>\n",
       "      <td>skynews</td>\n",
       "    </tr>\n",
       "    <tr>\n",
       "      <th>503</th>\n",
       "      <td>Anthony Albanese switches to election footing ...</td>\n",
       "      <td>Anthony Albanese switches to election footing ...</td>\n",
       "      <td>PM frames federal poll as choice between ‘buil...</td>\n",
       "      <td>2025-01-06</td>\n",
       "      <td>https://www.theguardian.com/australia-news/202...</td>\n",
       "      <td>theguardian</td>\n",
       "    </tr>\n",
       "    <tr>\n",
       "      <th>504</th>\n",
       "      <td>‘A huge hit for any family’: New emissions sta...</td>\n",
       "      <td>‘A huge hit for any family’: Coalition warns n...</td>\n",
       "      <td>The federal Coalition is warning Australian co...</td>\n",
       "      <td>2025-01-02</td>\n",
       "      <td>https://www.skynews.com.au/australia-news/poli...</td>\n",
       "      <td>skynews</td>\n",
       "    </tr>\n",
       "    <tr>\n",
       "      <th>505</th>\n",
       "      <td>Eyes on the poll: five themes that will mark A...</td>\n",
       "      <td>Eyes on the poll: five themes that will mark A...</td>\n",
       "      <td>As Albanese rushes to regain his mojo in the f...</td>\n",
       "      <td>2025-01-01</td>\n",
       "      <td>https://www.theguardian.com/australia-news/202...</td>\n",
       "      <td>theguardian</td>\n",
       "    </tr>\n",
       "  </tbody>\n",
       "</table>\n",
       "<p>506 rows × 6 columns</p>\n",
       "</div>"
      ],
      "text/plain": [
       "                                              headline  \\\n",
       "0    New polling reveals Jacinta Allan’s support pl...   \n",
       "1    WATCH LIVE: Shadow treasurer Angus Taylor addr...   \n",
       "2    Albanese’s major election push for group of Au...   \n",
       "3    Albanese hits back at Trump’s list of grievanc...   \n",
       "4    Bipartisan support to invest $150m for health ...   \n",
       "..                                                 ...   \n",
       "501  Albanese unveils $7.2b highway upgrade as elec...   \n",
       "502  Labor plunges $7.2bn to upgrade one of Austral...   \n",
       "503  Anthony Albanese switches to election footing ...   \n",
       "504  ‘A huge hit for any family’: New emissions sta...   \n",
       "505  Eyes on the poll: five themes that will mark A...   \n",
       "\n",
       "                                                 title  \\\n",
       "0    Polls reveals sharp drop in support for Jacint...   \n",
       "1    WATCH LIVE: Shadow treasurer Angus Taylor addr...   \n",
       "2    Federal Election 2025: Labor to make submissio...   \n",
       "3    Anthony Albanese pressed on relationship with ...   \n",
       "4    Coalition to match Labor's $150 million pledge...   \n",
       "..                                                 ...   \n",
       "501  Federal Labor pledges to fund bulk of Bruce Hi...   \n",
       "502  Albanese government gives $7.2 billion funding...   \n",
       "503  Anthony Albanese switches to election footing ...   \n",
       "504  ‘A huge hit for any family’: Coalition warns n...   \n",
       "505  Eyes on the poll: five themes that will mark A...   \n",
       "\n",
       "                                               content        date  \\\n",
       "0    New polling has revealed support for Jacinta A...  2025-04-02   \n",
       "1    Shadow treasurer Angus Taylor is delivering hi...  2025-04-02   \n",
       "2    Labor will push the Fair Work Commission to gi...  2025-04-02   \n",
       "3    Prime Minister Anthony Albanese has insisted h...  2025-04-01   \n",
       "4    A $150 million investment into a new healthcar...  2025-04-01   \n",
       "..                                                 ...         ...   \n",
       "501  The federal government has announced it will f...  2025-01-06   \n",
       "502  Prime Minister Anthony Albanese has used his f...  2025-01-06   \n",
       "503  PM frames federal poll as choice between ‘buil...  2025-01-06   \n",
       "504  The federal Coalition is warning Australian co...  2025-01-02   \n",
       "505  As Albanese rushes to regain his mojo in the f...  2025-01-01   \n",
       "\n",
       "                                                   url       source  \n",
       "0    https://www.skynews.com.au/australia-news/poli...      skynews  \n",
       "1    https://www.skynews.com.au/australia-news/poli...      skynews  \n",
       "2    https://www.skynews.com.au/australia-news/poli...      skynews  \n",
       "3    https://www.skynews.com.au/australia-news/poli...      skynews  \n",
       "4    https://www.abc.net.au/news/2025-03-31/federal...          abc  \n",
       "..                                                 ...          ...  \n",
       "501  https://www.abc.net.au/news/2025-01-06/federal...          abc  \n",
       "502  https://www.skynews.com.au/australia-news/poli...      skynews  \n",
       "503  https://www.theguardian.com/australia-news/202...  theguardian  \n",
       "504  https://www.skynews.com.au/australia-news/poli...      skynews  \n",
       "505  https://www.theguardian.com/australia-news/202...  theguardian  \n",
       "\n",
       "[506 rows x 6 columns]"
      ]
     },
     "execution_count": 288,
     "metadata": {},
     "output_type": "execute_result"
    }
   ],
   "source": [
    "corpus.reset_index(drop=True, inplace=True)\n",
    "corpus"
   ]
  },
  {
   "cell_type": "code",
   "execution_count": 289,
   "id": "bc1adbd3",
   "metadata": {},
   "outputs": [
    {
     "name": "stdout",
     "output_type": "stream",
     "text": [
      "<class 'pandas.core.frame.DataFrame'>\n",
      "RangeIndex: 506 entries, 0 to 505\n",
      "Data columns (total 6 columns):\n",
      " #   Column    Non-Null Count  Dtype \n",
      "---  ------    --------------  ----- \n",
      " 0   headline  506 non-null    object\n",
      " 1   title     506 non-null    object\n",
      " 2   content   506 non-null    object\n",
      " 3   date      506 non-null    object\n",
      " 4   url       506 non-null    object\n",
      " 5   source    506 non-null    object\n",
      "dtypes: object(6)\n",
      "memory usage: 23.8+ KB\n"
     ]
    }
   ],
   "source": [
    "corpus.info()"
   ]
  },
  {
   "cell_type": "code",
   "execution_count": 313,
   "id": "091cd935",
   "metadata": {},
   "outputs": [
    {
     "data": {
      "text/plain": [
       "<Axes: xlabel='source', ylabel='Count'>"
      ]
     },
     "execution_count": 313,
     "metadata": {},
     "output_type": "execute_result"
    },
    {
     "data": {
      "image/png": "[encoded data removed]",
      "text/plain": [
       "<Figure size 640x480 with 1 Axes>"
      ]
     },
     "metadata": {},
     "output_type": "display_data"
    }
   ],
   "source": [
    "sns.histplot(corpus['source'])"
   ]
  },
  {
   "cell_type": "code",
   "execution_count": 299,
   "id": "98573164",
   "metadata": {},
   "outputs": [
    {
     "data": {
      "text/plain": [
       "<Axes: xlabel='date', ylabel='Count'>"
      ]
     },
     "execution_count": 299,
     "metadata": {},
     "output_type": "execute_result"
    },
    {
     "data": {
      "image/png": "[encoded data removed]",
      "text/plain": [
       "<Figure size 640x480 with 1 Axes>"
      ]
     },
     "metadata": {},
     "output_type": "display_data"
    }
   ],
   "source": [
    "sns.histplot(corpus['date'])"
   ]
  },
  {
   "cell_type": "code",
   "execution_count": 292,
   "id": "bccda515",
   "metadata": {},
   "outputs": [],
   "source": [
    "corpus['content_length'] = corpus['content'].apply(lambda x: len(x.split()))"
   ]
  },
  {
   "cell_type": "code",
   "execution_count": 293,
   "id": "a5a33bff",
   "metadata": {},
   "outputs": [
    {
     "data": {
      "text/plain": [
       "765.0118577075099"
      ]
     },
     "execution_count": 293,
     "metadata": {},
     "output_type": "execute_result"
    }
   ],
   "source": [
    "avg_length = sum(corpus['content_length'])/len(corpus)\n",
    "avg_length # 761"
   ]
  },
  {
   "cell_type": "code",
   "execution_count": 298,
   "id": "edde50ba",
   "metadata": {},
   "outputs": [
    {
     "data": {
      "text/plain": [
       "<Axes: xlabel='content_length', ylabel='Count'>"
      ]
     },
     "execution_count": 298,
     "metadata": {},
     "output_type": "execute_result"
    },
    {
     "data": {
      "image/png": "[encoded data removed]",
      "text/plain": [
       "<Figure size 640x480 with 1 Axes>"
      ]
     },
     "metadata": {},
     "output_type": "display_data"
    }
   ],
   "source": [
    "sns.histplot(corpus['content_length'])"
   ]
  },
  {
   "cell_type": "code",
   "execution_count": 297,
   "id": "206f2f17",
   "metadata": {},
   "outputs": [
    {
     "data": {
      "text/plain": [
       "93"
      ]
     },
     "execution_count": 297,
     "metadata": {},
     "output_type": "execute_result"
    }
   ],
   "source": [
    "corpus['content_length'].idxmin()"
   ]
  },
  {
   "cell_type": "code",
   "execution_count": 296,
   "id": "c6df1532",
   "metadata": {},
   "outputs": [],
   "source": [
    "corpus = corpus[corpus['content_length'] >= 50]"
   ]
  },
  {
   "cell_type": "code",
   "execution_count": 314,
   "id": "d1eb445b",
   "metadata": {},
   "outputs": [],
   "source": [
    "corpus.to_csv('corpus.csv', index=False)"
   ]
  },
  {
   "cell_type": "code",
   "execution_count": null,
   "id": "d4d7d04d",
   "metadata": {},
   "outputs": [],
   "source": []
  }
 ],
 "metadata": {
  "kernelspec": {
   "display_name": "Python 3 (ipykernel)",
   "language": "python",
   "name": "python3"
  },
  "language_info": {
   "codemirror_mode": {
    "name": "ipython",
    "version": 3
   },
   "file_extension": ".py",
   "mimetype": "text/x-python",
   "name": "python",
   "nbconvert_exporter": "python",
   "pygments_lexer": "ipython3",
   "version": "3.12.2"
  }
 },
 "nbformat": 4,
 "nbformat_minor": 5
}

{
 "cells": [
  {
   "cell_type": "markdown",
   "id": "34a51bdb",
   "metadata": {},
   "source": [
    "# Mainly for VADER and ELMo Embeddings Sentiment Analysis\n",
    "## NOTE it is out of order esp. towards the bottom graphs"
   ]
  },
  {
   "cell_type": "code",
   "execution_count": 248,
   "id": "1c28c98b",
   "metadata": {},
   "outputs": [
    {
     "name": "stdout",
     "output_type": "stream",
     "text": [
      "[detached HEAD 21a2ed0] clean up\n",
      " 1 file changed, 1684 insertions(+)\n",
      " create mode 100644 VADER_and_ELMo.ipynb\n",
      "fatal: You are not currently on a branch.\n",
      "To push the history leading to the current (detached HEAD)\n",
      "state now, use\n",
      "\n",
      "    git push origin HEAD:<name-of-remote-branch>\n",
      "\n"
     ]
    }
   ],
   "source": [
    "!git add VADER_and_ELMo.ipynb\n",
    "!git commit -m \"clean up\"\n",
    "!git push"
   ]
  },
  {
   "cell_type": "code",
   "execution_count": 12,
   "id": "67ad0ef4",
   "metadata": {},
   "outputs": [],
   "source": [
    "import pandas as pd\n",
    "import numpy as np\n",
    "import matplotlib.pyplot as plt\n",
    "import seaborn as sns\n",
    "from transformers import BertTokenizer, BertModel\n",
    "import pickle\n",
    "import tensorflow_hub as hub\n",
    "import tensorflow as tf\n",
    "from tensorflow.keras.models import Sequential\n",
    "from tensorflow.keras.layers import LSTM, Dense, Dropout\n",
    "import pandas as pd\n",
    "import numpy as np\n",
    "import seaborn as sns\n",
    "import nltk\n",
    "from nltk.tokenize import sent_tokenize\n",
    "#nltk.download('vader_lexicon')\n",
    "from nltk.sentiment.vader import SentimentIntensityAnalyzer\n",
    "#nltk.download('punkt')\n",
    "#nltk.download('punkt_tab')\n",
    "from nltk.tokenize import word_tokenize\n",
    "from tensorflow.keras.preprocessing.sequence import pad_sequences\n",
    "from sklearn.model_selection import train_test_split\n",
    "from tensorflow.keras.utils import to_categorical\n",
    "from tensorflow.keras.callbacks import EarlyStopping\n",
    "import pickle\n",
    "import torch\n",
    "from scikeras.wrappers import KerasClassifier\n",
    "from sklearn.model_selection import RandomizedSearchCV\n",
    "from tensorflow.keras.optimizers import Adam\n",
    "from scipy.stats import uniform, randint\n",
    "from sklearn.model_selection import GridSearchCV\n",
    "from sklearn.metrics import classification_report"
   ]
  },
  {
   "cell_type": "code",
   "execution_count": 193,
   "id": "b5456107",
   "metadata": {},
   "outputs": [
    {
     "name": "stdout",
     "output_type": "stream",
     "text": [
      "[main ad812ec] NER graphs\n",
      " 1 file changed, 851 insertions(+)\n",
      " create mode 100644 VADER_and_ELMo.ipynb\n",
      "Enumerating objects: 4, done.\n",
      "Counting objects: 100% (4/4), done.\n",
      "Delta compression using up to 8 threads\n",
      "Compressing objects: 100% (3/3), done.\n",
      "Writing objects: 100% (3/3), 67.54 KiB | 11.26 MiB/s, done.\n",
      "Total 3 (delta 1), reused 0 (delta 0), pack-reused 0\n",
      "remote: Resolving deltas: 100% (1/1), completed with 1 local object.\u001b[K\n",
      "To https://github.com/gaylejuntilla/MA3831-A3.git\n",
      "   bd41298..ad812ec  main -> main\n"
     ]
    }
   ],
   "source": [
    "!git add VADER_and_ELMo.ipynb\n",
    "!git commit -m 'NER graphs'\n",
    "!git push"
   ]
  },
  {
   "cell_type": "code",
   "execution_count": 160,
   "id": "6dbdebb8",
   "metadata": {},
   "outputs": [],
   "source": [
    "corpus = pd.read_csv('corpus_NER.csv')\n",
    "corpus_df = corpus.copy()"
   ]
  },
  {
   "cell_type": "code",
   "execution_count": 161,
   "id": "af2e9d9e",
   "metadata": {},
   "outputs": [],
   "source": [
    "analyzer = SentimentIntensityAnalyzer()\n",
    "\n",
    "# Function to apply VADER sentiment analysis to text\n",
    "def get_vader_sentiment(text):\n",
    "    sentiment = analyzer.polarity_scores(text) # Get sentiment scores\n",
    "    return sentiment['compound']  # Compound score is the overall sentiment"
   ]
  },
  {
   "cell_type": "code",
   "execution_count": 162,
   "id": "2c68dd6a",
   "metadata": {},
   "outputs": [],
   "source": [
    "corpus_df['headline_score'] = corpus_df['headline'].apply(get_vader_sentiment)\n",
    "corpus_df['headline_sentiment'] = corpus_df['headline_score'].apply(lambda x: 'positive' if x>0.05 else ('negative' if x< -0.05 else 'neutral'))"
   ]
  },
  {
   "cell_type": "code",
   "execution_count": 11,
   "id": "c69a75ef",
   "metadata": {},
   "outputs": [],
   "source": [
    "elmo = hub.load(\"https://tfhub.dev/google/elmo/2\")"
   ]
  },
  {
   "cell_type": "code",
   "execution_count": 12,
   "id": "ad047149",
   "metadata": {},
   "outputs": [],
   "source": [
    "def truncate_content(content, token_limit=800):\n",
    "    # Initialize variables to count tokens and store truncated sentences\n",
    "    total_tokens = 0\n",
    "    truncated_sentences = []\n",
    "    sentences = sent_tokenize(content)\n",
    "    \n",
    "    for sentence in sentences:\n",
    "        sentence_tokens = len(sentence.split())  # Token count of the sentence\n",
    "        \n",
    "        # Check if adding this sentence will exceed the token limit\n",
    "        if total_tokens + sentence_tokens > token_limit:\n",
    "            break  # Stop if we've reached the limit\n",
    "        truncated_sentences.append(sentence)\n",
    "        total_tokens += sentence_tokens\n",
    "    \n",
    "    # Join the truncated sentences back into a string\n",
    "    return ' '.join(truncated_sentences)\n",
    "corpus_df['content'] = corpus_df['content'].apply(truncate_content)"
   ]
  },
  {
   "cell_type": "code",
   "execution_count": 14,
   "id": "9ffc0c5a",
   "metadata": {},
   "outputs": [
    {
     "name": "stdout",
     "output_type": "stream",
     "text": [
      "Processed 0 to 16 rows...\n",
      "Processed 160 to 176 rows...\n",
      "Processed 320 to 336 rows...\n",
      "Processed 480 to 496 rows...\n",
      "(502, 800, 1024)\n"
     ]
    }
   ],
   "source": [
    "def get_elmo_embeddings_batch(text_batch):\n",
    "    \"\"\"Function to get ELMo embeddings for a batch of text\"\"\"\n",
    "    elmo_input = tf.convert_to_tensor(text_batch, dtype=tf.string)\n",
    "    \n",
    "    # Get the embeddings from ELMo\n",
    "    elmo_output = elmo.signatures['default'](text=elmo_input)\n",
    "    embeddings = elmo_output['elmo']\n",
    "    \n",
    "    return embeddings\n",
    "\n",
    "def process_in_batches(df, batch_size=16, max_length=800):\n",
    "    \"\"\"\n",
    "    Process the content column in batches, getting ELMo embeddings for each batch.\n",
    "    Pads the embeddings to ensure consistent shapes for concatenation.\n",
    "    \"\"\"\n",
    "    embeddings = []\n",
    "    total_rows = len(df)\n",
    "    \n",
    "    for start in range(0, total_rows, batch_size):\n",
    "        # Create batch slice\n",
    "        end = min(start + batch_size, total_rows)\n",
    "        batch_text = df['content'][start:end].tolist()\n",
    "        \n",
    "        # Get ELMo embeddings for the batch\n",
    "        try:\n",
    "            batch_embeddings = get_elmo_embeddings_batch(batch_text)\n",
    "            \n",
    "            # Pad to max_length if sentence is shorter, truncate if longer\n",
    "            batch_embeddings_padded = pad_sequences(batch_embeddings.numpy(), \n",
    "                                                     maxlen=max_length, \n",
    "                                                     dtype='float32', \n",
    "                                                     padding='post', \n",
    "                                                     truncating='post')\n",
    "            \n",
    "            embeddings.append(batch_embeddings_padded)  # Add the padded embeddings\n",
    "        except Exception as e:\n",
    "            print(f\"Error processing batch {start}-{end}: {e}\")\n",
    "            embeddings.append(None)  # Append None in case of failure\n",
    "        \n",
    "        # Print progress every 10 batches\n",
    "        if (start // batch_size) % 10 == 0:\n",
    "            print(f\"Processed {start} to {end} rows...\")\n",
    "    \n",
    "    # Concatenate all batches together\n",
    "    embeddings = np.concatenate(embeddings, axis=0)\n",
    "    \n",
    "    return embeddings\n",
    "\n",
    "# Process just the 'content' column and return embeddings as a separate variable\n",
    "elmo_embeddings = process_in_batches(corpus_df, batch_size=16, max_length=800)\n",
    "\n",
    "# Now, elmo_embeddings holds the embeddings for the 'content' column only\n",
    "print(elmo_embeddings.shape)"
   ]
  },
  {
   "cell_type": "code",
   "execution_count": 58,
   "id": "7ffd93c3",
   "metadata": {},
   "outputs": [
    {
     "name": "stdout",
     "output_type": "stream",
     "text": [
      "Max tokenized sentence length: 29\n",
      "Processed 0 to 32 rows...\n",
      "Processed 320 to 352 rows...\n",
      "(502, 29, 1024)\n"
     ]
    }
   ],
   "source": [
    "# Headline embeddings for bias classifier\n",
    "def elmo_tokenize(texts):\n",
    "    \"\"\"Use ELMo's internal tokenization (same as used in the model).\"\"\"\n",
    "    embeddings = elmo.signatures['default'](tf.convert_to_tensor(texts))\n",
    "    return embeddings['elmo']\n",
    "\n",
    "def get_max_tokenized_length(df):\n",
    "    \"\"\"Calculate the max tokenized length using ELMo's internal tokenization.\"\"\"\n",
    "    max_length = 0\n",
    "    for text in df['headline']:\n",
    "        # Tokenize text using ELMo's tokenizer (embedding)\n",
    "        tokens = elmo_tokenize([text])  # Tokenize sentence\n",
    "        token_length = tokens.shape[1]  # Get token count (second dimension)\n",
    "        max_length = max(max_length, token_length)\n",
    "    return max_length\n",
    "\n",
    "def process_headline_embeddings(df, batch_size=32):\n",
    "    \"\"\"Process the headline column in batches, getting ELMo embeddings.\"\"\"\n",
    "    embeddings = []\n",
    "    total_rows = len(df)\n",
    "    \n",
    "    # Calculate the max tokenized length once\n",
    "    max_tokenized_len = get_max_tokenized_length(df)\n",
    "    print(f\"Max tokenized sentence length: {max_tokenized_len}\")\n",
    "    \n",
    "    for start in range(0, total_rows, batch_size):\n",
    "        # Create batch slice\n",
    "        end = min(start + batch_size, total_rows)\n",
    "        batch_text = df['headline'][start:end].tolist()\n",
    "        \n",
    "        # Get ELMo embeddings for the batch\n",
    "        try:\n",
    "            batch_embeddings = elmo_tokenize(batch_text)\n",
    "            \n",
    "            batch_embeddings_padded = np.array([np.pad(\n",
    "                emb.numpy(), \n",
    "                ((0, max_tokenized_len - emb.shape[0]), (0, 0)),  # Pad to max length\n",
    "                'constant') for emb in batch_embeddings])\n",
    "            \n",
    "            embeddings.append(batch_embeddings_padded)  # Add the padded embeddings\n",
    "        except Exception as e:\n",
    "            print(f\"Error processing batch {start}-{end}: {e}\")\n",
    "            embeddings.append(None)  # Append None in case of failure\n",
    "        \n",
    "        # Print progress every 10 batches\n",
    "        if (start // batch_size) % 10 == 0:\n",
    "            print(f\"Processed {start} to {end} rows...\")\n",
    "    \n",
    "    # Concatenate all batches together\n",
    "    embeddings = np.concatenate(embeddings, axis=0)\n",
    "    \n",
    "    return embeddings\n",
    "\n",
    "# Call this function to process the embeddings\n",
    "elmo_headline_embeddings = process_headline_embeddings(corpus_df, batch_size=32)\n",
    "\n",
    "# Check the shape (should be num_samples, max_tokenized_len, 1024)\n",
    "print(elmo_headline_embeddings.shape)\n"
   ]
  },
  {
   "cell_type": "code",
   "execution_count": 163,
   "id": "b980521f",
   "metadata": {},
   "outputs": [],
   "source": [
    "# randomly select 20 articles to manually label\n",
    "# Step 1: Randomly select 20 articles from the original DataFrame\n",
    "manual_sample = corpus_df.sample(n=20, random_state=42)\n",
    "\n",
    "# Step 2: Get the indices of these selected articles\n",
    "manual_indices = manual_sample.index\n",
    "\n",
    "# Step 3: Use these indices to extract the corresponding ELMo embeddings\n",
    "#manual_elmo_embeddings = elmo_embeddings[manual_indices]"
   ]
  },
  {
   "cell_type": "code",
   "execution_count": null,
   "id": "e72a955f",
   "metadata": {},
   "outputs": [],
   "source": [
    "manual_sentiment = ['neutral', 'negative','negative','neutral','negative','neutral','neutral','neutral','negative','negative','neutral','negative','negative','neutral','neutral','positive','positive','negative','negative','negative']\n",
    "ymanual = pd.get_dummies(manual_sentiment).to_numpy()\n",
    "manual_sample['manual_sentiment'] = manual_sentiment"
   ]
  },
  {
   "cell_type": "code",
   "execution_count": null,
   "id": "9c86a198",
   "metadata": {},
   "outputs": [],
   "source": [
    "manual_predictions = model.predict(manual_elmo_embeddings)\n",
    "predicted_manual = np.argmax(manual_predictions, axis=1)\n",
    "print(predicted_manual)\n",
    "manual_loss, manual_accuracy = model.evaluate(manual_elmo_embeddings, ymanual)"
   ]
  },
  {
   "cell_type": "code",
   "execution_count": 35,
   "id": "038dfb89",
   "metadata": {},
   "outputs": [],
   "source": [
    "import pickle\n",
    "\n",
    "# Save embeddings to a file using pickle\n",
    "with open('model_embeddings.pkl', 'wb') as f:\n",
    "    pickle.dump(model_embeddings, f)\n",
    "    "
   ]
  },
  {
   "cell_type": "code",
   "execution_count": 59,
   "id": "3e0ad57f",
   "metadata": {},
   "outputs": [],
   "source": [
    "with open('headline_embeddings.pkl', 'wb') as f:\n",
    "    pickle.dump(elmo_headline_embeddings, f)"
   ]
  },
  {
   "cell_type": "code",
   "execution_count": 9,
   "id": "39ade324",
   "metadata": {},
   "outputs": [],
   "source": [
    "with open(\"model_embeddings.pkl\", \"rb\") as f:\n",
    "    elmo_embeddings = pickle.load(f)"
   ]
  },
  {
   "cell_type": "code",
   "execution_count": 170,
   "id": "783d3820",
   "metadata": {},
   "outputs": [],
   "source": [
    "y_sentiment = pd.get_dummies(corpus_df['headline_sentiment']).to_numpy()\n",
    "corpus2 = corpus_df.drop(manual_indices)\n",
    "y_sentiment = pd.get_dummies(corpus2['headline_sentiment']).to_numpy()\n",
    "y2 = np.argmax(y_sentiment, axis=1)"
   ]
  },
  {
   "cell_type": "code",
   "execution_count": 171,
   "id": "f8d5ffe9",
   "metadata": {},
   "outputs": [
    {
     "data": {
      "text/plain": [
       "482"
      ]
     },
     "execution_count": 171,
     "metadata": {},
     "output_type": "execute_result"
    }
   ],
   "source": [
    "len(y2)"
   ]
  },
  {
   "cell_type": "markdown",
   "id": "0358fd42",
   "metadata": {},
   "source": [
    "# Sentiment Analysis with LSTM using ELMo"
   ]
  },
  {
   "cell_type": "code",
   "execution_count": 216,
   "id": "6023a037",
   "metadata": {},
   "outputs": [],
   "source": [
    "def train_lstm_classifier(X, y, max_length, embedding_dim, num_classes=3, \n",
    "                          lstm_units=128, dropout_rate=0.3, dense_units=4,\n",
    "                          batch_size=16, epochs=5, validation_split=0.2):\n",
    "    \"\"\"\n",
    "    Train an LSTM model on the given data.\n",
    "    \n",
    "    Parameters:\n",
    "        X (ndarray): Input embeddings\n",
    "        y (ndarray): One-hot encoded labels\n",
    "        max_length (int): Max sequence length\n",
    "        embedding_dim (int): Embedding dimensionality (e.g. 1024 for ELMo, 768 for BERT)\n",
    "        num_classes (int): Number of output classes\n",
    "        lstm_units (int): Number of LSTM units\n",
    "        dropout_rate (float): Dropout rate\n",
    "        dense_units (int): Units in dense layer\n",
    "        batch_size (int): Batch size\n",
    "        epochs (int): Number of training epochs\n",
    "        validation_split (float): Fraction of data used for validation\n",
    "    \"\"\"\n",
    "    indices = np.arange(len(X))\n",
    "    X_train, X_test, y_train, y_test, idx_train, idx_test = train_test_split(\n",
    "        X, y, indices, test_size=validation_split, random_state=42\n",
    "    )\n",
    "\n",
    "    model = tf.keras.Sequential([\n",
    "        tf.keras.layers.InputLayer(input_shape=(max_length, embedding_dim)),\n",
    "        tf.keras.layers.LSTM(lstm_units, return_sequences=False),\n",
    "        tf.keras.layers.Dropout(dropout_rate),\n",
    "        tf.keras.layers.Dense(dense_units, activation='relu'),\n",
    "        tf.keras.layers.Dense(num_classes, activation='softmax')\n",
    "    ])\n",
    "\n",
    "    model.compile(loss='categorical_crossentropy',\n",
    "                  optimizer=Adam(learning_rate=0.001),\n",
    "                  metrics=['accuracy'])\n",
    "\n",
    "    history = model.fit(X_train, y_train,\n",
    "                        epochs=epochs,\n",
    "                        batch_size=batch_size,\n",
    "                        validation_data=(X_test, y_test))\n",
    "    \n",
    "    y_pred_probs = model.predict(X_test)\n",
    "    # Converts predictions into single classes from 0-2\n",
    "    y_pred = np.argmax(y_pred_probs, axis=1)\n",
    "    y_true = np.argmax(y_test, axis=1)\n",
    "\n",
    "    evaluation = model.evaluate(X_test, y_test)\n",
    "    print(f\"Test Loss: {evaluation[0]}, Test Accuracy: {evaluation[1]}\")\n",
    "\n",
    "    return model, history, evaluation, y_pred, y_true\n"
   ]
  },
  {
   "cell_type": "code",
   "execution_count": 218,
   "id": "f92b0b23",
   "metadata": {},
   "outputs": [
    {
     "name": "stdout",
     "output_type": "stream",
     "text": [
      "Epoch 1/5\n",
      "\u001b[1m25/25\u001b[0m \u001b[32m━━━━━━━━━━━━━━━━━━━━\u001b[0m\u001b[37m\u001b[0m \u001b[1m28s\u001b[0m 1s/step - accuracy: 0.3413 - loss: 1.1121 - val_accuracy: 0.3505 - val_loss: 1.0938\n",
      "Epoch 2/5\n",
      "\u001b[1m25/25\u001b[0m \u001b[32m━━━━━━━━━━━━━━━━━━━━\u001b[0m\u001b[37m\u001b[0m \u001b[1m23s\u001b[0m 922ms/step - accuracy: 0.3561 - loss: 1.0820 - val_accuracy: 0.3402 - val_loss: 1.0830\n",
      "Epoch 3/5\n",
      "\u001b[1m25/25\u001b[0m \u001b[32m━━━━━━━━━━━━━━━━━━━━\u001b[0m\u001b[37m\u001b[0m \u001b[1m25s\u001b[0m 1s/step - accuracy: 0.4210 - loss: 1.0698 - val_accuracy: 0.3299 - val_loss: 1.1147\n",
      "Epoch 4/5\n",
      "\u001b[1m25/25\u001b[0m \u001b[32m━━━━━━━━━━━━━━━━━━━━\u001b[0m\u001b[37m\u001b[0m \u001b[1m22s\u001b[0m 887ms/step - accuracy: 0.3976 - loss: 1.0664 - val_accuracy: 0.3402 - val_loss: 1.0968\n",
      "Epoch 5/5\n",
      "\u001b[1m25/25\u001b[0m \u001b[32m━━━━━━━━━━━━━━━━━━━━\u001b[0m\u001b[37m\u001b[0m \u001b[1m23s\u001b[0m 928ms/step - accuracy: 0.4140 - loss: 1.0567 - val_accuracy: 0.3196 - val_loss: 1.1552\n",
      "\u001b[1m4/4\u001b[0m \u001b[32m━━━━━━━━━━━━━━━━━━━━\u001b[0m\u001b[37m\u001b[0m \u001b[1m1s\u001b[0m 323ms/step\n",
      "\u001b[1m4/4\u001b[0m \u001b[32m━━━━━━━━━━━━━━━━━━━━\u001b[0m\u001b[37m\u001b[0m \u001b[1m1s\u001b[0m 299ms/step - accuracy: 0.3143 - loss: 1.1691\n",
      "Test Loss: 1.1552183628082275, Test Accuracy: 0.3195876181125641\n"
     ]
    }
   ],
   "source": [
    "model_elmo_sent, history_elmo_sent, eval_elmo_sent, y_pred_elmo_sent, y_true_elmo_sent = train_lstm_classifier(\n",
    "    X=elmo_embeddings,\n",
    "    y=y_sentiment,\n",
    "    max_length=800,\n",
    "    embedding_dim=1024\n",
    ")"
   ]
  },
  {
   "cell_type": "code",
   "execution_count": 115,
   "id": "1d4c3650",
   "metadata": {},
   "outputs": [
    {
     "name": "stdout",
     "output_type": "stream",
     "text": [
      "              precision    recall  f1-score   support\n",
      "\n",
      "           0       0.31      0.68      0.42        31\n",
      "           1       0.38      0.32      0.35        34\n",
      "           2       1.00      0.00      0.00        32\n",
      "\n",
      "    accuracy                           0.33        97\n",
      "   macro avg       0.56      0.33      0.26        97\n",
      "weighted avg       0.56      0.33      0.26        97\n",
      "\n"
     ]
    }
   ],
   "source": [
    "print(classification_report(y_true_elmo_sent, y_pred_elmo_sent, zero_division=1))"
   ]
  },
  {
   "cell_type": "code",
   "execution_count": 168,
   "id": "f4221d35",
   "metadata": {},
   "outputs": [],
   "source": [
    "indices = np.arange(len(elmo_embeddings))\n",
    "X_train, X_test, y_train, y_test, idx_train, idx_test = train_test_split(\n",
    "        elmo_embeddings, y_sentiment, indices, test_size=0.2, random_state=42\n",
    ")"
   ]
  },
  {
   "cell_type": "code",
   "execution_count": 169,
   "id": "b5de5611",
   "metadata": {},
   "outputs": [
    {
     "data": {
      "text/plain": [
       "array([0, 1, 0, 0, 1, 0, 0, 0, 1, 1, 0, 1, 0, 0, 1, 0, 0, 0, 0, 0, 0, 0,\n",
       "       1, 0, 0, 0, 0, 0, 0, 0, 1, 0, 0, 0, 0, 0, 1, 1, 0, 0, 1, 0, 1, 1,\n",
       "       1, 1, 0, 0, 1, 0, 0, 0, 0, 1, 0, 1, 0, 1, 1, 1, 0, 0, 1, 1, 0, 0,\n",
       "       0, 0, 0, 1, 0, 0, 0, 0, 1, 0, 0, 0, 0, 0, 0, 0, 0, 1, 0, 0, 0, 0,\n",
       "       1, 0, 0, 1, 1, 0, 0, 0, 0])"
      ]
     },
     "execution_count": 169,
     "metadata": {},
     "output_type": "execute_result"
    }
   ],
   "source": [
    "y_pred_elmo_sent"
   ]
  },
  {
   "cell_type": "code",
   "execution_count": 63,
   "id": "b84f0ca3",
   "metadata": {},
   "outputs": [
    {
     "name": "stdout",
     "output_type": "stream",
     "text": [
      "\u001b[1m16/16\u001b[0m \u001b[32m━━━━━━━━━━━━━━━━━━━━\u001b[0m\u001b[37m\u001b[0m \u001b[1m7s\u001b[0m 372ms/step\n"
     ]
    }
   ],
   "source": [
    "elmo_pred_prob = model_elmo_sent.predict(elmo_embeddings)\n",
    "elmo_pred = np.argmax(elmo_pred_prob, axis=1)"
   ]
  },
  {
   "cell_type": "code",
   "execution_count": 65,
   "id": "46fbdf71",
   "metadata": {},
   "outputs": [
    {
     "data": {
      "text/plain": [
       "Index(['negative', 'neutral', 'positive'], dtype='object')"
      ]
     },
     "execution_count": 65,
     "metadata": {},
     "output_type": "execute_result"
    }
   ],
   "source": [
    "y_label = pd.get_dummies(corpus_df['headline_sentiment']).columns\n",
    "y_label"
   ]
  },
  {
   "cell_type": "code",
   "execution_count": 172,
   "id": "9c684743",
   "metadata": {},
   "outputs": [],
   "source": [
    "corpus2['content_sentiment'] = elmo_pred"
   ]
  },
  {
   "cell_type": "code",
   "execution_count": 56,
   "id": "250e6ac7",
   "metadata": {},
   "outputs": [
    {
     "data": {
      "image/png": "[encoded data removed]",
      "text/plain": [
       "<Figure size 1200x500 with 2 Axes>"
      ]
     },
     "metadata": {},
     "output_type": "display_data"
    }
   ],
   "source": [
    "def plot_training_history(history):\n",
    "    plt.figure(figsize=(12, 5))\n",
    "\n",
    "    # Accuracy\n",
    "    plt.subplot(1, 2, 1)\n",
    "    plt.plot(history.history['accuracy'], label='Train Acc')\n",
    "    plt.plot(history.history['val_accuracy'], label='Val Acc')\n",
    "    plt.xlabel('Epoch')\n",
    "    plt.ylabel('Accuracy')\n",
    "    plt.title('Training vs Validation Accuracy')\n",
    "    plt.legend()\n",
    "\n",
    "    # Loss\n",
    "    plt.subplot(1, 2, 2)\n",
    "    plt.plot(history.history['loss'], label='Train Loss')\n",
    "    plt.plot(history.history['val_loss'], label='Val Loss')\n",
    "    plt.xlabel('Epoch')\n",
    "    plt.ylabel('Loss')\n",
    "    plt.title('Training vs Validation Loss')\n",
    "    plt.legend()\n",
    "\n",
    "    plt.tight_layout()\n",
    "    plt.show()\n",
    "\n",
    "plot_training_history(history_elmo_sent)"
   ]
  },
  {
   "cell_type": "code",
   "execution_count": 220,
   "id": "1fde06d8",
   "metadata": {},
   "outputs": [],
   "source": [
    "def vader_to_label(score):\n",
    "    \"\"\"Mapping the headline VADER scores to match the supervised model scores\"\"\"\n",
    "    if score <= -0.05:\n",
    "        return 0  # negative\n",
    "    elif score >= 0.05:\n",
    "        return 2  # positive\n",
    "    else:\n",
    "        return 1  # neutral\n",
    "\n",
    "corpus2['vader_to_lstm'] = corpus_df['headline_score'].apply(vader_to_label)"
   ]
  },
  {
   "cell_type": "code",
   "execution_count": 221,
   "id": "f3b3c3ce",
   "metadata": {},
   "outputs": [],
   "source": [
    "# returns difference between 0-2\n",
    "corpus2['sentiment_diff'] = abs(corpus2['vader_to_lstm'] - corpus2['content_sentiment'])"
   ]
  },
  {
   "cell_type": "code",
   "execution_count": 222,
   "id": "19766581",
   "metadata": {},
   "outputs": [],
   "source": [
    "# returns True or False for mismatch\n",
    "corpus2['sentiment_mismatch'] = corpus2['vader_to_lstm'] != corpus2['content_sentiment']"
   ]
  },
  {
   "cell_type": "code",
   "execution_count": 223,
   "id": "7c8fd8cf",
   "metadata": {},
   "outputs": [
    {
     "data": {
      "text/html": [
       "<div>\n",
       "<style scoped>\n",
       "    .dataframe tbody tr th:only-of-type {\n",
       "        vertical-align: middle;\n",
       "    }\n",
       "\n",
       "    .dataframe tbody tr th {\n",
       "        vertical-align: top;\n",
       "    }\n",
       "\n",
       "    .dataframe thead th {\n",
       "        text-align: right;\n",
       "    }\n",
       "</style>\n",
       "<table border=\"1\" class=\"dataframe\">\n",
       "  <thead>\n",
       "    <tr style=\"text-align: right;\">\n",
       "      <th></th>\n",
       "      <th>headline</th>\n",
       "      <th>title</th>\n",
       "      <th>content</th>\n",
       "      <th>date</th>\n",
       "      <th>url</th>\n",
       "      <th>source</th>\n",
       "      <th>content_length</th>\n",
       "      <th>headline_people</th>\n",
       "      <th>headline_parties</th>\n",
       "      <th>content_people</th>\n",
       "      <th>content_parties</th>\n",
       "      <th>headline_score</th>\n",
       "      <th>headline_sentiment</th>\n",
       "      <th>content_sentiment</th>\n",
       "      <th>vader_to_lstm</th>\n",
       "      <th>sentiment_diff</th>\n",
       "      <th>sentiment_mismatch</th>\n",
       "    </tr>\n",
       "  </thead>\n",
       "  <tbody>\n",
       "    <tr>\n",
       "      <th>0</th>\n",
       "      <td>New polling reveals Jacinta Allan’s support pl...</td>\n",
       "      <td>Polls reveals sharp drop in support for Jacint...</td>\n",
       "      <td>New polling has revealed support for Jacinta A...</td>\n",
       "      <td>2025-04-02</td>\n",
       "      <td>https://www.skynews.com.au/australia-news/poli...</td>\n",
       "      <td>skynews</td>\n",
       "      <td>406</td>\n",
       "      <td>[]</td>\n",
       "      <td>[]</td>\n",
       "      <td>[Daniel Andrews, Andrews, Ms Allan, Allan, Jim...</td>\n",
       "      <td>[Coalition, Labor, Liberal]</td>\n",
       "      <td>0.1531</td>\n",
       "      <td>positive</td>\n",
       "      <td>0</td>\n",
       "      <td>2</td>\n",
       "      <td>2</td>\n",
       "      <td>True</td>\n",
       "    </tr>\n",
       "    <tr>\n",
       "      <th>1</th>\n",
       "      <td>Albanese’s major election push for group of Au...</td>\n",
       "      <td>Federal Election 2025: Labor to make submissio...</td>\n",
       "      <td>Labor will push the Fair Work Commission to gi...</td>\n",
       "      <td>2025-04-02</td>\n",
       "      <td>https://www.skynews.com.au/australia-news/poli...</td>\n",
       "      <td>skynews</td>\n",
       "      <td>424</td>\n",
       "      <td>[Anthony Albanese]</td>\n",
       "      <td>[]</td>\n",
       "      <td>[Albanese, Anthony Albanese, Dutton, Peter Dut...</td>\n",
       "      <td>[Labor, Coalition, Australian Labor Party, Lib...</td>\n",
       "      <td>-0.6249</td>\n",
       "      <td>negative</td>\n",
       "      <td>0</td>\n",
       "      <td>0</td>\n",
       "      <td>0</td>\n",
       "      <td>False</td>\n",
       "    </tr>\n",
       "    <tr>\n",
       "      <th>2</th>\n",
       "      <td>Albanese hits back at Trump’s list of grievanc...</td>\n",
       "      <td>Anthony Albanese pressed on relationship with ...</td>\n",
       "      <td>Prime Minister Anthony Albanese has insisted h...</td>\n",
       "      <td>2025-04-01</td>\n",
       "      <td>https://www.skynews.com.au/australia-news/poli...</td>\n",
       "      <td>skynews</td>\n",
       "      <td>457</td>\n",
       "      <td>[Anthony Albanese]</td>\n",
       "      <td>[]</td>\n",
       "      <td>[Albanese, Trump, Anthony Albanese, Donald Trump]</td>\n",
       "      <td>[Labor]</td>\n",
       "      <td>-0.3612</td>\n",
       "      <td>negative</td>\n",
       "      <td>0</td>\n",
       "      <td>0</td>\n",
       "      <td>0</td>\n",
       "      <td>False</td>\n",
       "    </tr>\n",
       "    <tr>\n",
       "      <th>3</th>\n",
       "      <td>Bipartisan support to invest $150m for health ...</td>\n",
       "      <td>Coalition to match Labor's $150 million pledge...</td>\n",
       "      <td>A $150 million investment into a new healthcar...</td>\n",
       "      <td>2025-04-01</td>\n",
       "      <td>https://www.abc.net.au/news/2025-03-31/federal...</td>\n",
       "      <td>abc</td>\n",
       "      <td>749</td>\n",
       "      <td>[]</td>\n",
       "      <td>[]</td>\n",
       "      <td>[Colin Stirling, Anthony Albanese, Mark Butler...</td>\n",
       "      <td>[Labor, Coalition, Liberal]</td>\n",
       "      <td>0.4019</td>\n",
       "      <td>positive</td>\n",
       "      <td>0</td>\n",
       "      <td>2</td>\n",
       "      <td>2</td>\n",
       "      <td>True</td>\n",
       "    </tr>\n",
       "    <tr>\n",
       "      <th>4</th>\n",
       "      <td>Coalition promises to relax home lending rules...</td>\n",
       "      <td>Coalition promises to relax home lending rules...</td>\n",
       "      <td>The Coalition is promising to relax rules arou...</td>\n",
       "      <td>2025-04-01</td>\n",
       "      <td>https://www.abc.net.au/news/2025-04-01/electio...</td>\n",
       "      <td>abc</td>\n",
       "      <td>659</td>\n",
       "      <td>[]</td>\n",
       "      <td>[Coalition]</td>\n",
       "      <td>[Anthony Albanese, Peter Dutton, Michael Sukka...</td>\n",
       "      <td>[Coalition, National, Greens]</td>\n",
       "      <td>0.6705</td>\n",
       "      <td>positive</td>\n",
       "      <td>0</td>\n",
       "      <td>2</td>\n",
       "      <td>2</td>\n",
       "      <td>True</td>\n",
       "    </tr>\n",
       "    <tr>\n",
       "      <th>...</th>\n",
       "      <td>...</td>\n",
       "      <td>...</td>\n",
       "      <td>...</td>\n",
       "      <td>...</td>\n",
       "      <td>...</td>\n",
       "      <td>...</td>\n",
       "      <td>...</td>\n",
       "      <td>...</td>\n",
       "      <td>...</td>\n",
       "      <td>...</td>\n",
       "      <td>...</td>\n",
       "      <td>...</td>\n",
       "      <td>...</td>\n",
       "      <td>...</td>\n",
       "      <td>...</td>\n",
       "      <td>...</td>\n",
       "      <td>...</td>\n",
       "    </tr>\n",
       "    <tr>\n",
       "      <th>496</th>\n",
       "      <td>‘This is their job’: Qld mayor calls out Alban...</td>\n",
       "      <td>Mackay Mayor Greg Williamson says Bruce Highwa...</td>\n",
       "      <td>The Albanese government has been criticised fo...</td>\n",
       "      <td>2025-01-07</td>\n",
       "      <td>https://www.skynews.com.au/australia-news/poli...</td>\n",
       "      <td>skynews</td>\n",
       "      <td>841</td>\n",
       "      <td>[Anthony Albanese]</td>\n",
       "      <td>[]</td>\n",
       "      <td>[Kenny Heatley, Cairns, Anthony Albanese, Bena...</td>\n",
       "      <td>[Labor, Coalition]</td>\n",
       "      <td>-0.4767</td>\n",
       "      <td>negative</td>\n",
       "      <td>2</td>\n",
       "      <td>0</td>\n",
       "      <td>2</td>\n",
       "      <td>True</td>\n",
       "    </tr>\n",
       "    <tr>\n",
       "      <th>498</th>\n",
       "      <td>Labor plunges $7.2bn to upgrade one of Austral...</td>\n",
       "      <td>Albanese government gives $7.2 billion funding...</td>\n",
       "      <td>Prime Minister Anthony Albanese has used his f...</td>\n",
       "      <td>2025-01-06</td>\n",
       "      <td>https://www.skynews.com.au/australia-news/poli...</td>\n",
       "      <td>skynews</td>\n",
       "      <td>553</td>\n",
       "      <td>[]</td>\n",
       "      <td>[Labor]</td>\n",
       "      <td>[Bruce Highway, Cairns, Anthony Albanese, Cath...</td>\n",
       "      <td>[Liberal]</td>\n",
       "      <td>0.0000</td>\n",
       "      <td>neutral</td>\n",
       "      <td>0</td>\n",
       "      <td>1</td>\n",
       "      <td>1</td>\n",
       "      <td>True</td>\n",
       "    </tr>\n",
       "    <tr>\n",
       "      <th>499</th>\n",
       "      <td>Anthony Albanese switches to election footing ...</td>\n",
       "      <td>Anthony Albanese switches to election footing ...</td>\n",
       "      <td>PM frames federal poll as choice between ‘buil...</td>\n",
       "      <td>2025-01-06</td>\n",
       "      <td>https://www.theguardian.com/australia-news/202...</td>\n",
       "      <td>theguardian</td>\n",
       "      <td>561</td>\n",
       "      <td>[Anthony Albanese]</td>\n",
       "      <td>[]</td>\n",
       "      <td>[Cairns, Anthony Albanese, Albanese, Warren En...</td>\n",
       "      <td>[Labor, Coalition, Liberal]</td>\n",
       "      <td>-0.1531</td>\n",
       "      <td>negative</td>\n",
       "      <td>0</td>\n",
       "      <td>0</td>\n",
       "      <td>0</td>\n",
       "      <td>False</td>\n",
       "    </tr>\n",
       "    <tr>\n",
       "      <th>500</th>\n",
       "      <td>‘A huge hit for any family’: New emissions sta...</td>\n",
       "      <td>‘A huge hit for any family’: Coalition warns n...</td>\n",
       "      <td>The federal Coalition is warning Australian co...</td>\n",
       "      <td>2025-01-02</td>\n",
       "      <td>https://www.skynews.com.au/australia-news/poli...</td>\n",
       "      <td>skynews</td>\n",
       "      <td>402</td>\n",
       "      <td>[]</td>\n",
       "      <td>[]</td>\n",
       "      <td>[Albanese, Jono Duniam, Duniam, David Littlepr...</td>\n",
       "      <td>[Coalition, Labor, Liberal]</td>\n",
       "      <td>0.3182</td>\n",
       "      <td>positive</td>\n",
       "      <td>0</td>\n",
       "      <td>2</td>\n",
       "      <td>2</td>\n",
       "      <td>True</td>\n",
       "    </tr>\n",
       "    <tr>\n",
       "      <th>501</th>\n",
       "      <td>Eyes on the poll: five themes that will mark A...</td>\n",
       "      <td>Eyes on the poll: five themes that will mark A...</td>\n",
       "      <td>As Albanese rushes to regain his mojo in the f...</td>\n",
       "      <td>2025-01-01</td>\n",
       "      <td>https://www.theguardian.com/australia-news/202...</td>\n",
       "      <td>theguardian</td>\n",
       "      <td>850</td>\n",
       "      <td>[]</td>\n",
       "      <td>[]</td>\n",
       "      <td>[Anthony Albanese, John Howard-era, Michele Bu...</td>\n",
       "      <td>[Labor, Coalition]</td>\n",
       "      <td>0.0000</td>\n",
       "      <td>neutral</td>\n",
       "      <td>1</td>\n",
       "      <td>1</td>\n",
       "      <td>0</td>\n",
       "      <td>False</td>\n",
       "    </tr>\n",
       "  </tbody>\n",
       "</table>\n",
       "<p>482 rows × 17 columns</p>\n",
       "</div>"
      ],
      "text/plain": [
       "                                              headline  \\\n",
       "0    New polling reveals Jacinta Allan’s support pl...   \n",
       "1    Albanese’s major election push for group of Au...   \n",
       "2    Albanese hits back at Trump’s list of grievanc...   \n",
       "3    Bipartisan support to invest $150m for health ...   \n",
       "4    Coalition promises to relax home lending rules...   \n",
       "..                                                 ...   \n",
       "496  ‘This is their job’: Qld mayor calls out Alban...   \n",
       "498  Labor plunges $7.2bn to upgrade one of Austral...   \n",
       "499  Anthony Albanese switches to election footing ...   \n",
       "500  ‘A huge hit for any family’: New emissions sta...   \n",
       "501  Eyes on the poll: five themes that will mark A...   \n",
       "\n",
       "                                                 title  \\\n",
       "0    Polls reveals sharp drop in support for Jacint...   \n",
       "1    Federal Election 2025: Labor to make submissio...   \n",
       "2    Anthony Albanese pressed on relationship with ...   \n",
       "3    Coalition to match Labor's $150 million pledge...   \n",
       "4    Coalition promises to relax home lending rules...   \n",
       "..                                                 ...   \n",
       "496  Mackay Mayor Greg Williamson says Bruce Highwa...   \n",
       "498  Albanese government gives $7.2 billion funding...   \n",
       "499  Anthony Albanese switches to election footing ...   \n",
       "500  ‘A huge hit for any family’: Coalition warns n...   \n",
       "501  Eyes on the poll: five themes that will mark A...   \n",
       "\n",
       "                                               content        date  \\\n",
       "0    New polling has revealed support for Jacinta A...  2025-04-02   \n",
       "1    Labor will push the Fair Work Commission to gi...  2025-04-02   \n",
       "2    Prime Minister Anthony Albanese has insisted h...  2025-04-01   \n",
       "3    A $150 million investment into a new healthcar...  2025-04-01   \n",
       "4    The Coalition is promising to relax rules arou...  2025-04-01   \n",
       "..                                                 ...         ...   \n",
       "496  The Albanese government has been criticised fo...  2025-01-07   \n",
       "498  Prime Minister Anthony Albanese has used his f...  2025-01-06   \n",
       "499  PM frames federal poll as choice between ‘buil...  2025-01-06   \n",
       "500  The federal Coalition is warning Australian co...  2025-01-02   \n",
       "501  As Albanese rushes to regain his mojo in the f...  2025-01-01   \n",
       "\n",
       "                                                   url       source  \\\n",
       "0    https://www.skynews.com.au/australia-news/poli...      skynews   \n",
       "1    https://www.skynews.com.au/australia-news/poli...      skynews   \n",
       "2    https://www.skynews.com.au/australia-news/poli...      skynews   \n",
       "3    https://www.abc.net.au/news/2025-03-31/federal...          abc   \n",
       "4    https://www.abc.net.au/news/2025-04-01/electio...          abc   \n",
       "..                                                 ...          ...   \n",
       "496  https://www.skynews.com.au/australia-news/poli...      skynews   \n",
       "498  https://www.skynews.com.au/australia-news/poli...      skynews   \n",
       "499  https://www.theguardian.com/australia-news/202...  theguardian   \n",
       "500  https://www.skynews.com.au/australia-news/poli...      skynews   \n",
       "501  https://www.theguardian.com/australia-news/202...  theguardian   \n",
       "\n",
       "     content_length     headline_people headline_parties  \\\n",
       "0               406                  []               []   \n",
       "1               424  [Anthony Albanese]               []   \n",
       "2               457  [Anthony Albanese]               []   \n",
       "3               749                  []               []   \n",
       "4               659                  []      [Coalition]   \n",
       "..              ...                 ...              ...   \n",
       "496             841  [Anthony Albanese]               []   \n",
       "498             553                  []          [Labor]   \n",
       "499             561  [Anthony Albanese]               []   \n",
       "500             402                  []               []   \n",
       "501             850                  []               []   \n",
       "\n",
       "                                        content_people  \\\n",
       "0    [Daniel Andrews, Andrews, Ms Allan, Allan, Jim...   \n",
       "1    [Albanese, Anthony Albanese, Dutton, Peter Dut...   \n",
       "2    [Albanese, Trump, Anthony Albanese, Donald Trump]   \n",
       "3    [Colin Stirling, Anthony Albanese, Mark Butler...   \n",
       "4    [Anthony Albanese, Peter Dutton, Michael Sukka...   \n",
       "..                                                 ...   \n",
       "496  [Kenny Heatley, Cairns, Anthony Albanese, Bena...   \n",
       "498  [Bruce Highway, Cairns, Anthony Albanese, Cath...   \n",
       "499  [Cairns, Anthony Albanese, Albanese, Warren En...   \n",
       "500  [Albanese, Jono Duniam, Duniam, David Littlepr...   \n",
       "501  [Anthony Albanese, John Howard-era, Michele Bu...   \n",
       "\n",
       "                                       content_parties  headline_score  \\\n",
       "0                          [Coalition, Labor, Liberal]          0.1531   \n",
       "1    [Labor, Coalition, Australian Labor Party, Lib...         -0.6249   \n",
       "2                                              [Labor]         -0.3612   \n",
       "3                          [Labor, Coalition, Liberal]          0.4019   \n",
       "4                        [Coalition, National, Greens]          0.6705   \n",
       "..                                                 ...             ...   \n",
       "496                                 [Labor, Coalition]         -0.4767   \n",
       "498                                          [Liberal]          0.0000   \n",
       "499                        [Labor, Coalition, Liberal]         -0.1531   \n",
       "500                        [Coalition, Labor, Liberal]          0.3182   \n",
       "501                                 [Labor, Coalition]          0.0000   \n",
       "\n",
       "    headline_sentiment  content_sentiment  vader_to_lstm  sentiment_diff  \\\n",
       "0             positive                  0              2               2   \n",
       "1             negative                  0              0               0   \n",
       "2             negative                  0              0               0   \n",
       "3             positive                  0              2               2   \n",
       "4             positive                  0              2               2   \n",
       "..                 ...                ...            ...             ...   \n",
       "496           negative                  2              0               2   \n",
       "498            neutral                  0              1               1   \n",
       "499           negative                  0              0               0   \n",
       "500           positive                  0              2               2   \n",
       "501            neutral                  1              1               0   \n",
       "\n",
       "     sentiment_mismatch  \n",
       "0                  True  \n",
       "1                 False  \n",
       "2                 False  \n",
       "3                  True  \n",
       "4                  True  \n",
       "..                  ...  \n",
       "496                True  \n",
       "498                True  \n",
       "499               False  \n",
       "500                True  \n",
       "501               False  \n",
       "\n",
       "[482 rows x 17 columns]"
      ]
     },
     "execution_count": 223,
     "metadata": {},
     "output_type": "execute_result"
    }
   ],
   "source": [
    "corpus2"
   ]
  },
  {
   "cell_type": "code",
   "execution_count": 200,
   "id": "85b21750",
   "metadata": {},
   "outputs": [
    {
     "name": "stderr",
     "output_type": "stream",
     "text": [
      "/var/folders/z9/p4zgtcqn1xd4hnqfbwtb8vf80000gn/T/ipykernel_1150/696234824.py:3: FutureWarning: \n",
      "\n",
      "Passing `palette` without assigning `hue` is deprecated and will be removed in v0.14.0. Assign the `x` variable to `hue` and set `legend=False` for the same effect.\n",
      "\n",
      "  ax = sns.countplot(x='sentiment_diff', data=corpus2, palette='muted')\n",
      "/var/folders/z9/p4zgtcqn1xd4hnqfbwtb8vf80000gn/T/ipykernel_1150/696234824.py:5: UserWarning: set_ticklabels() should only be used with a fixed number of ticks, i.e. after set_ticks() or using a FixedLocator.\n",
      "  ax.set_xticklabels([label_map.get(int(label.get_text()), \"\") for label in ax.get_xticklabels()])\n"
     ]
    },
    {
     "data": {
      "image/png": "[encoded data removed]",
      "text/plain": [
       "<Figure size 640x480 with 1 Axes>"
      ]
     },
     "metadata": {},
     "output_type": "display_data"
    }
   ],
   "source": [
    "label_map = {0: \"same\", 1: \"more postive/negative\", 2: \"opposite\"}\n",
    "\n",
    "ax = sns.countplot(x='sentiment_diff', data=corpus2, palette='muted')\n",
    "plt.title('Difference Between Headline and Content Sentiment')\n",
    "ax.set_xticklabels([label_map.get(int(label.get_text()), \"\") for label in ax.get_xticklabels()])\n",
    "plt.xlabel('Sentiment Difference (Headline - Content)')\n",
    "plt.ylabel('Number of Articles')\n",
    "plt.show()"
   ]
  },
  {
   "cell_type": "code",
   "execution_count": 176,
   "id": "f1453f3e",
   "metadata": {},
   "outputs": [
    {
     "name": "stderr",
     "output_type": "stream",
     "text": [
      "/var/folders/z9/p4zgtcqn1xd4hnqfbwtb8vf80000gn/T/ipykernel_1150/2784161051.py:1: FutureWarning: \n",
      "\n",
      "Passing `palette` without assigning `hue` is deprecated and will be removed in v0.14.0. Assign the `x` variable to `hue` and set `legend=False` for the same effect.\n",
      "\n",
      "  sns.countplot(x='sentiment_mismatch', data=corpus2, palette='muted')\n"
     ]
    },
    {
     "data": {
      "text/plain": [
       "<Axes: xlabel='sentiment_mismatch', ylabel='count'>"
      ]
     },
     "execution_count": 176,
     "metadata": {},
     "output_type": "execute_result"
    },
    {
     "data": {
      "image/png": "[encoded data removed]",
      "text/plain": [
       "<Figure size 640x480 with 1 Axes>"
      ]
     },
     "metadata": {},
     "output_type": "display_data"
    }
   ],
   "source": [
    "sns.countplot(x='sentiment_mismatch', data=corpus2, palette='muted')"
   ]
  },
  {
   "cell_type": "code",
   "execution_count": 141,
   "id": "7a00839a",
   "metadata": {},
   "outputs": [
    {
     "name": "stdout",
     "output_type": "stream",
     "text": [
      "Index(['negative', 'neutral', 'positive'], dtype='object')\n"
     ]
    }
   ],
   "source": [
    "sentiment_labels = pd.get_dummies(corpus_df['headline_sentiment']).columns\n",
    "print(sentiment_labels)"
   ]
  },
  {
   "cell_type": "code",
   "execution_count": 151,
   "id": "d542ef0f",
   "metadata": {},
   "outputs": [],
   "source": [
    "corpus3 = corpus.copy()"
   ]
  },
  {
   "cell_type": "code",
   "execution_count": 179,
   "id": "2556f085",
   "metadata": {},
   "outputs": [],
   "source": [
    "import ast\n",
    "cols_to_fix = ['headline_people', 'headline_parties', 'content_people', 'content_parties']\n",
    "for col in cols_to_fix:\n",
    "    corpus2[col] = corpus2[col].apply(lambda x: ast.literal_eval(x) if isinstance(x, str) else x)"
   ]
  },
  {
   "cell_type": "code",
   "execution_count": 180,
   "id": "0e05e85a",
   "metadata": {},
   "outputs": [],
   "source": [
    "leader_aliases = {\n",
    "    \"Albanese\": \"Anthony Albanese\",\n",
    "    \"Anthony Albanese\": \"Anthony Albanese\",\n",
    "    \"Dutton\": \"Peter Dutton\",\n",
    "    \"Peter Dutton\": \"Peter Dutton\",\n",
    "    \"Bandt\": \"Adam Bandt\",\n",
    "    \"Adam Bandt\": \"Adam Bandt\",\n",
    "    \"Morrison\": \"Scott Morrison\",\n",
    "    \"Scott Morrison\": \"Scott Morrison\",\n",
    "    \"Marles\": \"Richard Marles\",\n",
    "    \"Richard Marles\": \"Richard Marles\",\n",
    "    \"Wong\": \"Penny Wong\",\n",
    "    \"Penny Wong\": \"Penny Wong\"\n",
    "}\n",
    "\n",
    "def normalize_leaders(person_list):\n",
    "    return [leader_aliases[name] for name in person_list if name in leader_aliases]\n",
    "\n",
    "corpus2['headline_people'] = corpus2['headline_people'].apply(normalize_leaders)"
   ]
  },
  {
   "cell_type": "code",
   "execution_count": 182,
   "id": "dff464ec",
   "metadata": {},
   "outputs": [],
   "source": [
    "filtered_df = corpus2[corpus2['headline_people'].apply(lambda x: len(x) > 0)]\n"
   ]
  },
  {
   "cell_type": "code",
   "execution_count": 183,
   "id": "0c3d2f3a",
   "metadata": {},
   "outputs": [],
   "source": [
    "filtered_df.to_csv('filtered_df.csv', index=False)"
   ]
  },
  {
   "cell_type": "code",
   "execution_count": 212,
   "id": "4b4aeea4",
   "metadata": {},
   "outputs": [
    {
     "name": "stderr",
     "output_type": "stream",
     "text": [
      "/var/folders/z9/p4zgtcqn1xd4hnqfbwtb8vf80000gn/T/ipykernel_1150/2437644747.py:3: MatplotlibDeprecationWarning: The get_cmap function was deprecated in Matplotlib 3.7 and will be removed in 3.11. Use ``matplotlib.colormaps[name]`` or ``matplotlib.colormaps.get_cmap()`` or ``pyplot.get_cmap()`` instead.\n",
      "  puor_colors = cm.get_cmap('PuOr', 3)\n"
     ]
    },
    {
     "data": {
      "image/png": "[encoded data removed]",
      "text/plain": [
       "<Figure size 640x480 with 1 Axes>"
      ]
     },
     "metadata": {},
     "output_type": "display_data"
    }
   ],
   "source": [
    "import matplotlib.cm as cm \n",
    "import matplotlib.pyplot as plt\n",
    "puor_colors = cm.get_cmap('PuOr', 3)\n",
    "colors = [puor_colors(i) for i in range(3)]  # RGBA tuples\n",
    "colors_hex = [plt.matplotlib.colors.to_hex(c) for c in colors]\n",
    "\n",
    "exploded_df = filtered_df.explode('headline_people')\n",
    "sentiment_counts = exploded_df.groupby(['headline_people', 'headline_sentiment']).size().unstack(fill_value=0)\n",
    "sentiment_counts.plot(kind = 'bar', colormap = 'PuOr', width = 1)\n",
    "plt.xlabel('NER political leaders')\n",
    "plt.ylabel('VADER Sentiment Count')\n",
    "plt.legend()\n",
    "\n",
    "plt.show()"
   ]
  },
  {
   "cell_type": "code",
   "execution_count": 215,
   "id": "889cf35c",
   "metadata": {},
   "outputs": [
    {
     "data": {
      "image/png": "[encoded data removed]",
      "text/plain": [
       "<Figure size 640x480 with 1 Axes>"
      ]
     },
     "metadata": {},
     "output_type": "display_data"
    }
   ],
   "source": [
    "source_counts = exploded_df.groupby(['source', 'headline_sentiment']).size().unstack(fill_value=0)\n",
    "source_counts.plot(kind = 'bar', colormap = 'PuOr', width = 1)\n",
    "plt.legend()\n",
    "plt.ylabel('VADER Sentiment Count')\n",
    "plt.xlabel('News Outlet')\n",
    "plt.show()"
   ]
  },
  {
   "cell_type": "code",
   "execution_count": 51,
   "id": "46d963ce",
   "metadata": {},
   "outputs": [],
   "source": [
    "source_and_leader_counts = exploded_df.groupby(['source', 'headline_sentiment', 'headline_people']).size().unstack(fill_value=0)"
   ]
  },
  {
   "cell_type": "code",
   "execution_count": 52,
   "id": "5536cb5b",
   "metadata": {},
   "outputs": [
    {
     "data": {
      "text/html": [
       "<div>\n",
       "<style scoped>\n",
       "    .dataframe tbody tr th:only-of-type {\n",
       "        vertical-align: middle;\n",
       "    }\n",
       "\n",
       "    .dataframe tbody tr th {\n",
       "        vertical-align: top;\n",
       "    }\n",
       "\n",
       "    .dataframe thead th {\n",
       "        text-align: right;\n",
       "    }\n",
       "</style>\n",
       "<table border=\"1\" class=\"dataframe\">\n",
       "  <thead>\n",
       "    <tr style=\"text-align: right;\">\n",
       "      <th></th>\n",
       "      <th>headline_people</th>\n",
       "      <th>Anthony Albanese</th>\n",
       "      <th>Peter Dutton</th>\n",
       "    </tr>\n",
       "    <tr>\n",
       "      <th>source</th>\n",
       "      <th>headline_sentiment</th>\n",
       "      <th></th>\n",
       "      <th></th>\n",
       "    </tr>\n",
       "  </thead>\n",
       "  <tbody>\n",
       "    <tr>\n",
       "      <th rowspan=\"3\" valign=\"top\">abc</th>\n",
       "      <th>negative</th>\n",
       "      <td>6</td>\n",
       "      <td>8</td>\n",
       "    </tr>\n",
       "    <tr>\n",
       "      <th>neutral</th>\n",
       "      <td>9</td>\n",
       "      <td>12</td>\n",
       "    </tr>\n",
       "    <tr>\n",
       "      <th>positive</th>\n",
       "      <td>1</td>\n",
       "      <td>9</td>\n",
       "    </tr>\n",
       "    <tr>\n",
       "      <th rowspan=\"3\" valign=\"top\">skynews</th>\n",
       "      <th>negative</th>\n",
       "      <td>14</td>\n",
       "      <td>3</td>\n",
       "    </tr>\n",
       "    <tr>\n",
       "      <th>neutral</th>\n",
       "      <td>11</td>\n",
       "      <td>8</td>\n",
       "    </tr>\n",
       "    <tr>\n",
       "      <th>positive</th>\n",
       "      <td>5</td>\n",
       "      <td>4</td>\n",
       "    </tr>\n",
       "    <tr>\n",
       "      <th rowspan=\"3\" valign=\"top\">theguardian</th>\n",
       "      <th>negative</th>\n",
       "      <td>7</td>\n",
       "      <td>24</td>\n",
       "    </tr>\n",
       "    <tr>\n",
       "      <th>neutral</th>\n",
       "      <td>9</td>\n",
       "      <td>14</td>\n",
       "    </tr>\n",
       "    <tr>\n",
       "      <th>positive</th>\n",
       "      <td>5</td>\n",
       "      <td>14</td>\n",
       "    </tr>\n",
       "  </tbody>\n",
       "</table>\n",
       "</div>"
      ],
      "text/plain": [
       "headline_people                 Anthony Albanese  Peter Dutton\n",
       "source      headline_sentiment                                \n",
       "abc         negative                           6             8\n",
       "            neutral                            9            12\n",
       "            positive                           1             9\n",
       "skynews     negative                          14             3\n",
       "            neutral                           11             8\n",
       "            positive                           5             4\n",
       "theguardian negative                           7            24\n",
       "            neutral                            9            14\n",
       "            positive                           5            14"
      ]
     },
     "execution_count": 52,
     "metadata": {},
     "output_type": "execute_result"
    }
   ],
   "source": [
    "source_and_leader_counts[['Anthony Albanese', 'Peter Dutton']]"
   ]
  },
  {
   "cell_type": "code",
   "execution_count": 61,
   "id": "1621cbae",
   "metadata": {},
   "outputs": [
    {
     "data": {
      "text/plain": [
       "array(['skynews', 'abc', 'theguardian'], dtype=object)"
      ]
     },
     "execution_count": 61,
     "metadata": {},
     "output_type": "execute_result"
    }
   ],
   "source": [
    "corpus_df['source'].unique()"
   ]
  },
  {
   "cell_type": "code",
   "execution_count": 196,
   "id": "a2c54870",
   "metadata": {},
   "outputs": [],
   "source": [
    "sentiment_order = ['negative', 'neutral', 'positive']\n",
    "corpus_df['headline_sentiment'] = pd.Categorical(\n",
    "    corpus_df['headline_sentiment'],\n",
    "    categories=sentiment_order,\n",
    "    ordered=True\n",
    ")"
   ]
  },
  {
   "cell_type": "code",
   "execution_count": 219,
   "id": "d8868065",
   "metadata": {},
   "outputs": [
    {
     "name": "stderr",
     "output_type": "stream",
     "text": [
      "/var/folders/z9/p4zgtcqn1xd4hnqfbwtb8vf80000gn/T/ipykernel_1150/3292325606.py:1: FutureWarning: \n",
      "\n",
      "Passing `palette` without assigning `hue` is deprecated and will be removed in v0.14.0. Assign the `x` variable to `hue` and set `legend=False` for the same effect.\n",
      "\n",
      "  sns.countplot(\n"
     ]
    },
    {
     "data": {
      "image/png": "[encoded data removed]",
      "text/plain": [
       "<Figure size 640x480 with 1 Axes>"
      ]
     },
     "metadata": {},
     "output_type": "display_data"
    }
   ],
   "source": [
    "sns.countplot(\n",
    "    data=corpus_df,\n",
    "    x='headline_sentiment',\n",
    "    order=sentiment_order,\n",
    "    palette=colors\n",
    ")\n",
    "plt.xlabel('Headline Sentiment')\n",
    "plt.ylabel('Count')\n",
    "plt.show()\n"
   ]
  },
  {
   "cell_type": "code",
   "execution_count": 206,
   "id": "db3fccc9",
   "metadata": {},
   "outputs": [
    {
     "name": "stderr",
     "output_type": "stream",
     "text": [
      "/var/folders/z9/p4zgtcqn1xd4hnqfbwtb8vf80000gn/T/ipykernel_1150/1867041546.py:1: FutureWarning: \n",
      "\n",
      "Passing `palette` without assigning `hue` is deprecated and will be removed in v0.14.0. Assign the `x` variable to `hue` and set `legend=False` for the same effect.\n",
      "\n",
      "  sns.countplot(\n"
     ]
    },
    {
     "data": {
      "image/png": "[encoded data removed]",
      "text/plain": [
       "<Figure size 640x480 with 1 Axes>"
      ]
     },
     "metadata": {},
     "output_type": "display_data"
    }
   ],
   "source": [
    "sns.countplot(\n",
    "    data=corpus_df,\n",
    "    x='source',\n",
    "    order=['theguardian', 'abc', 'skynews'],\n",
    "    palette=colors\n",
    ")\n",
    "plt.xlabel('News Outlet')\n",
    "plt.ylabel('Count')\n",
    "plt.title('Distribution of Corpus Articles by News Outlet')\n",
    "plt.show()"
   ]
  },
  {
   "cell_type": "code",
   "execution_count": 207,
   "id": "1a031af9",
   "metadata": {},
   "outputs": [
    {
     "name": "stderr",
     "output_type": "stream",
     "text": [
      "/var/folders/z9/p4zgtcqn1xd4hnqfbwtb8vf80000gn/T/ipykernel_1150/63895824.py:1: FutureWarning: \n",
      "\n",
      "Passing `palette` without assigning `hue` is deprecated and will be removed in v0.14.0. Assign the `x` variable to `hue` and set `legend=False` for the same effect.\n",
      "\n",
      "  sns.countplot(\n"
     ]
    },
    {
     "data": {
      "image/png": "[encoded data removed]",
      "text/plain": [
       "<Figure size 640x480 with 1 Axes>"
      ]
     },
     "metadata": {},
     "output_type": "display_data"
    }
   ],
   "source": [
    "sns.countplot(\n",
    "    data=corpus2.iloc[idx_train],\n",
    "    x='source',\n",
    "    order=['theguardian', 'abc', 'skynews'],\n",
    "    palette=colors\n",
    ")\n",
    "plt.xlabel('News Outlet')\n",
    "plt.ylabel('Count')\n",
    "plt.title('Distribution of Sample Articles by News Outlet')\n",
    "plt.show()\n",
    "#sns.histplot(corpus2.iloc[idx_train]['source'], color='#b76b3e')"
   ]
  },
  {
   "cell_type": "code",
   "execution_count": null,
   "id": "56423251",
   "metadata": {},
   "outputs": [],
   "source": []
  }
 ],
 "metadata": {
  "kernelspec": {
   "display_name": "Python 3 (ipykernel)",
   "language": "python",
   "name": "python3"
  },
  "language_info": {
   "codemirror_mode": {
    "name": "ipython",
    "version": 3
   },
   "file_extension": ".py",
   "mimetype": "text/x-python",
   "name": "python",
   "nbconvert_exporter": "python",
   "pygments_lexer": "ipython3",
   "version": "3.12.2"
  }
 },
 "nbformat": 4,
 "nbformat_minor": 5
}

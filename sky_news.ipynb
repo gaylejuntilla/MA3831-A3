{
 "cells": [
  {
   "cell_type": "markdown",
   "id": "eb127f25",
   "metadata": {},
   "source": [
    "# Sky News Web Crawler"
   ]
  },
  {
   "cell_type": "code",
   "execution_count": 1,
   "id": "f58fa3fc",
   "metadata": {},
   "outputs": [
    {
     "name": "stdout",
     "output_type": "stream",
     "text": [
      "[main 783e4cf] add sky_news.ipynb\n",
      " 1 file changed, 6 insertions(+)\n",
      " create mode 100644 sky_news.ipynb\n",
      "Enumerating objects: 4, done.\n",
      "Counting objects: 100% (4/4), done.\n",
      "Delta compression using up to 8 threads\n",
      "Compressing objects: 100% (3/3), done.\n",
      "Writing objects: 100% (3/3), 344 bytes | 344.00 KiB/s, done.\n",
      "Total 3 (delta 1), reused 0 (delta 0), pack-reused 0\n",
      "remote: Resolving deltas: 100% (1/1), completed with 1 local object.\u001b[K\n",
      "To https://github.com/gaylejuntilla/MA3831-A3.git\n",
      "   0ef3915..783e4cf  main -> main\n"
     ]
    }
   ],
   "source": [
    "!git add sky_news.ipynb\n",
    "!git commit -m \"add sky_news.ipynb\"\n",
    "!git push"
   ]
  },
  {
   "cell_type": "code",
   "execution_count": null,
   "id": "6e674b7d",
   "metadata": {},
   "outputs": [],
   "source": []
  }
 ],
 "metadata": {
  "kernelspec": {
   "display_name": "Python 3 (ipykernel)",
   "language": "python",
   "name": "python3"
  },
  "language_info": {
   "codemirror_mode": {
    "name": "ipython",
    "version": 3
   },
   "file_extension": ".py",
   "mimetype": "text/x-python",
   "name": "python",
   "nbconvert_exporter": "python",
   "pygments_lexer": "ipython3",
   "version": "3.12.2"
  }
 },
 "nbformat": 4,
 "nbformat_minor": 5
}
